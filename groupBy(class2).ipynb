{
 "cells": [
  {
   "cell_type": "code",
   "execution_count": 1,
   "id": "6445be32-9b01-4cee-9f23-5ecdb4d450b3",
   "metadata": {},
   "outputs": [],
   "source": [
    "import pandas as pd"
   ]
  },
  {
   "cell_type": "code",
   "execution_count": 2,
   "id": "6a4ca5c6-bdeb-4d01-a20b-6f73523e69a9",
   "metadata": {},
   "outputs": [],
   "source": [
    "import numpy as np\n"
   ]
  },
  {
   "cell_type": "code",
   "execution_count": 3,
   "id": "d92c948c-4f49-4c64-beb9-05d049d126f3",
   "metadata": {},
   "outputs": [],
   "source": [
    "import matplotlib.pyplot as plt"
   ]
  },
  {
   "cell_type": "code",
   "execution_count": 4,
   "id": "4907df96-de77-4401-b73a-5b036f6d4206",
   "metadata": {},
   "outputs": [
    {
     "data": {
      "text/html": [
       "<div>\n",
       "<style scoped>\n",
       "    .dataframe tbody tr th:only-of-type {\n",
       "        vertical-align: middle;\n",
       "    }\n",
       "\n",
       "    .dataframe tbody tr th {\n",
       "        vertical-align: top;\n",
       "    }\n",
       "\n",
       "    .dataframe thead th {\n",
       "        text-align: right;\n",
       "    }\n",
       "</style>\n",
       "<table border=\"1\" class=\"dataframe\">\n",
       "  <thead>\n",
       "    <tr style=\"text-align: right;\">\n",
       "      <th></th>\n",
       "      <th>Manufacturer</th>\n",
       "      <th>Model</th>\n",
       "      <th>Sales in thousands</th>\n",
       "      <th>4-year resale value</th>\n",
       "      <th>Vehicle type</th>\n",
       "      <th>Price in thousands</th>\n",
       "      <th>Engine size</th>\n",
       "      <th>Horsepower</th>\n",
       "      <th>Wheelbase</th>\n",
       "      <th>Width</th>\n",
       "      <th>Length</th>\n",
       "      <th>Curb weight</th>\n",
       "      <th>Fuel capacity</th>\n",
       "      <th>Fuel efficiency</th>\n",
       "      <th>Latest Launch</th>\n",
       "    </tr>\n",
       "  </thead>\n",
       "  <tbody>\n",
       "    <tr>\n",
       "      <th>0</th>\n",
       "      <td>Acura</td>\n",
       "      <td>Integra</td>\n",
       "      <td>16.919</td>\n",
       "      <td>16.36</td>\n",
       "      <td>Passenger</td>\n",
       "      <td>21.5</td>\n",
       "      <td>1.8</td>\n",
       "      <td>140</td>\n",
       "      <td>101.2</td>\n",
       "      <td>67.3</td>\n",
       "      <td>172.4</td>\n",
       "      <td>2.639</td>\n",
       "      <td>13.2</td>\n",
       "      <td>28</td>\n",
       "      <td>2-Feb-14</td>\n",
       "    </tr>\n",
       "  </tbody>\n",
       "</table>\n",
       "</div>"
      ],
      "text/plain": [
       "    Manufacturer              Model  Sales in thousands 4-year resale value  \\\n",
       "0  Acura          Integra                        16.919               16.36   \n",
       "\n",
       "  Vehicle type Price in thousands Engine size Horsepower Wheelbase Width  \\\n",
       "0    Passenger               21.5         1.8        140     101.2  67.3   \n",
       "\n",
       "  Length Curb weight Fuel capacity Fuel efficiency Latest Launch  \n",
       "0  172.4       2.639          13.2              28      2-Feb-14  "
      ]
     },
     "execution_count": 4,
     "metadata": {},
     "output_type": "execute_result"
    }
   ],
   "source": [
    "df = pd.read_csv(r'C:\\Users\\choco\\OneDrive\\Desktop\\python\\Car_sales.csv')\n",
    "df.head(1)"
   ]
  },
  {
   "cell_type": "code",
   "execution_count": 5,
   "id": "79cbf3b7-f899-4568-adc0-6823705d3e68",
   "metadata": {},
   "outputs": [
    {
     "data": {
      "text/plain": [
       "(157, 15)"
      ]
     },
     "execution_count": 5,
     "metadata": {},
     "output_type": "execute_result"
    }
   ],
   "source": [
    "df.shape"
   ]
  },
  {
   "cell_type": "code",
   "execution_count": 6,
   "id": "577d00ac-f8f1-4b35-8454-386cc531be27",
   "metadata": {},
   "outputs": [
    {
     "data": {
      "text/plain": [
       "Index(['Manufacturer', 'Model', 'Sales in thousands', '4-year resale value',\n",
       "       'Vehicle type', 'Price in thousands', 'Engine size', 'Horsepower',\n",
       "       'Wheelbase', 'Width', 'Length', 'Curb weight', 'Fuel capacity',\n",
       "       'Fuel efficiency', 'Latest Launch'],\n",
       "      dtype='object')"
      ]
     },
     "execution_count": 6,
     "metadata": {},
     "output_type": "execute_result"
    }
   ],
   "source": [
    "df.columns"
   ]
  },
  {
   "cell_type": "code",
   "execution_count": 7,
   "id": "e0489925-8604-464e-ae7f-11043a9f2e8c",
   "metadata": {},
   "outputs": [
    {
     "data": {
      "text/plain": [
       "Manufacturer           0\n",
       "Model                  0\n",
       "Sales in thousands     0\n",
       "4-year resale value    0\n",
       "Vehicle type           0\n",
       "Price in thousands     0\n",
       "Engine size            0\n",
       "Horsepower             0\n",
       "Wheelbase              0\n",
       "Width                  0\n",
       "Length                 0\n",
       "Curb weight            0\n",
       "Fuel capacity          0\n",
       "Fuel efficiency        0\n",
       "Latest Launch          0\n",
       "dtype: int64"
      ]
     },
     "execution_count": 7,
     "metadata": {},
     "output_type": "execute_result"
    }
   ],
   "source": [
    "df.isnull().sum()"
   ]
  },
  {
   "cell_type": "code",
   "execution_count": 8,
   "id": "5301fe21-fdb2-4548-8270-e2bc90c9bf73",
   "metadata": {},
   "outputs": [
    {
     "data": {
      "text/html": [
       "<div>\n",
       "<style scoped>\n",
       "    .dataframe tbody tr th:only-of-type {\n",
       "        vertical-align: middle;\n",
       "    }\n",
       "\n",
       "    .dataframe tbody tr th {\n",
       "        vertical-align: top;\n",
       "    }\n",
       "\n",
       "    .dataframe thead th {\n",
       "        text-align: right;\n",
       "    }\n",
       "</style>\n",
       "<table border=\"1\" class=\"dataframe\">\n",
       "  <thead>\n",
       "    <tr style=\"text-align: right;\">\n",
       "      <th></th>\n",
       "      <th>Sales in thousands</th>\n",
       "    </tr>\n",
       "  </thead>\n",
       "  <tbody>\n",
       "    <tr>\n",
       "      <th>count</th>\n",
       "      <td>157.000000</td>\n",
       "    </tr>\n",
       "    <tr>\n",
       "      <th>mean</th>\n",
       "      <td>52.998076</td>\n",
       "    </tr>\n",
       "    <tr>\n",
       "      <th>std</th>\n",
       "      <td>68.029422</td>\n",
       "    </tr>\n",
       "    <tr>\n",
       "      <th>min</th>\n",
       "      <td>0.110000</td>\n",
       "    </tr>\n",
       "    <tr>\n",
       "      <th>25%</th>\n",
       "      <td>14.114000</td>\n",
       "    </tr>\n",
       "    <tr>\n",
       "      <th>50%</th>\n",
       "      <td>29.450000</td>\n",
       "    </tr>\n",
       "    <tr>\n",
       "      <th>75%</th>\n",
       "      <td>67.956000</td>\n",
       "    </tr>\n",
       "    <tr>\n",
       "      <th>max</th>\n",
       "      <td>540.561000</td>\n",
       "    </tr>\n",
       "  </tbody>\n",
       "</table>\n",
       "</div>"
      ],
      "text/plain": [
       "       Sales in thousands\n",
       "count          157.000000\n",
       "mean            52.998076\n",
       "std             68.029422\n",
       "min              0.110000\n",
       "25%             14.114000\n",
       "50%             29.450000\n",
       "75%             67.956000\n",
       "max            540.561000"
      ]
     },
     "execution_count": 8,
     "metadata": {},
     "output_type": "execute_result"
    }
   ],
   "source": [
    "df.describe()"
   ]
  },
  {
   "cell_type": "code",
   "execution_count": 9,
   "id": "72d42936-027b-4390-95fc-0bfa5ea09f52",
   "metadata": {},
   "outputs": [
    {
     "data": {
      "text/plain": [
       "Manufacturer\n",
       "Ford             11\n",
       "Dodge            11\n",
       "Chevrolet         9\n",
       "Mercedes-Benz     9\n",
       "Toyota            9\n",
       "Chrysler          7\n",
       "Mitsubishi        7\n",
       "Nissan            7\n",
       "Mercury           6\n",
       "Oldsmobile        6\n",
       "Lexus             6\n",
       "Pontiac           6\n",
       "Volvo             6\n",
       "Volkswagen        6\n",
       "Cadillac          5\n",
       "Honda             5\n",
       "Saturn            5\n",
       "Plymouth          4\n",
       "Buick             4\n",
       "Acura             4\n",
       "Audi              3\n",
       "BMW               3\n",
       "Lincoln           3\n",
       "Porsche           3\n",
       "Jeep              3\n",
       "Hyundai           3\n",
       "Saab              2\n",
       "Subaru            2\n",
       "Jaguar            1\n",
       "Infiniti          1\n",
       "Name: count, dtype: int64"
      ]
     },
     "execution_count": 9,
     "metadata": {},
     "output_type": "execute_result"
    }
   ],
   "source": [
    "#total sales by manufacturer\n",
    "df['Manufacturer'].value_counts()"
   ]
  },
  {
   "cell_type": "code",
   "execution_count": 10,
   "id": "2c9c156e-e3a9-421c-8714-0b9dbc40d4c2",
   "metadata": {},
   "outputs": [
    {
     "data": {
      "text/plain": [
       "Manufacturer\n",
       "Acura              79.005\n",
       "Audi               40.557\n",
       "BMW                46.505\n",
       "Buick             242.019\n",
       "Cadillac          112.178\n",
       "Chevrolet         554.365\n",
       "Chrysler          201.721\n",
       "Dodge             910.149\n",
       "Ford             2022.635\n",
       "Honda             592.674\n",
       "Hyundai           137.326\n",
       "Infiniti           23.713\n",
       "Jaguar             15.467\n",
       "Jeep              293.153\n",
       "Lexus             106.843\n",
       "Lincoln            85.634\n",
       "Mercedes-Benz     117.125\n",
       "Mercury           237.999\n",
       "Mitsubishi        180.895\n",
       "Nissan            399.635\n",
       "Oldsmobile        178.989\n",
       "Plymouth           64.001\n",
       "Pontiac           370.534\n",
       "Porsche            12.128\n",
       "Saab               21.306\n",
       "Saturn            168.850\n",
       "Subaru             80.135\n",
       "Toyota            740.205\n",
       "Volkswagen        209.212\n",
       "Volvo              75.740\n",
       "Name: Sales in thousands, dtype: float64"
      ]
     },
     "execution_count": 10,
     "metadata": {},
     "output_type": "execute_result"
    }
   ],
   "source": [
    "#total sales by manufacturer\n",
    "total_sales=df.groupby('Manufacturer')['Sales in thousands'].sum()\n",
    "total_sales"
   ]
  },
  {
   "cell_type": "code",
   "execution_count": 12,
   "id": "e99091e7-671d-4e97-b3c6-068c7f5a70a0",
   "metadata": {},
   "outputs": [
    {
     "data": {
      "text/html": [
       "<div>\n",
       "<style scoped>\n",
       "    .dataframe tbody tr th:only-of-type {\n",
       "        vertical-align: middle;\n",
       "    }\n",
       "\n",
       "    .dataframe tbody tr th {\n",
       "        vertical-align: top;\n",
       "    }\n",
       "\n",
       "    .dataframe thead th {\n",
       "        text-align: right;\n",
       "    }\n",
       "</style>\n",
       "<table border=\"1\" class=\"dataframe\">\n",
       "  <thead>\n",
       "    <tr style=\"text-align: right;\">\n",
       "      <th></th>\n",
       "      <th>Manufacturer</th>\n",
       "      <th>Model</th>\n",
       "      <th>Sales in thousands</th>\n",
       "      <th>4-year resale value</th>\n",
       "      <th>Vehicle type</th>\n",
       "      <th>Price in thousands</th>\n",
       "      <th>Engine size</th>\n",
       "      <th>Horsepower</th>\n",
       "      <th>Wheelbase</th>\n",
       "      <th>Width</th>\n",
       "      <th>Length</th>\n",
       "      <th>Curb weight</th>\n",
       "      <th>Fuel capacity</th>\n",
       "      <th>Fuel efficiency</th>\n",
       "      <th>Latest Launch</th>\n",
       "    </tr>\n",
       "  </thead>\n",
       "  <tbody>\n",
       "    <tr>\n",
       "      <th>0</th>\n",
       "      <td>Acura</td>\n",
       "      <td>Integra</td>\n",
       "      <td>16.919</td>\n",
       "      <td>16.36</td>\n",
       "      <td>Passenger</td>\n",
       "      <td>21.5</td>\n",
       "      <td>1.8</td>\n",
       "      <td>140</td>\n",
       "      <td>101.2</td>\n",
       "      <td>67.3</td>\n",
       "      <td>172.4</td>\n",
       "      <td>2.639</td>\n",
       "      <td>13.2</td>\n",
       "      <td>28</td>\n",
       "      <td>2-Feb-14</td>\n",
       "    </tr>\n",
       "    <tr>\n",
       "      <th>1</th>\n",
       "      <td>Acura</td>\n",
       "      <td>TL</td>\n",
       "      <td>39.384</td>\n",
       "      <td>19.875</td>\n",
       "      <td>Passenger</td>\n",
       "      <td>28.4</td>\n",
       "      <td>3.2</td>\n",
       "      <td>225</td>\n",
       "      <td>108.1</td>\n",
       "      <td>70.3</td>\n",
       "      <td>192.9</td>\n",
       "      <td>3.517</td>\n",
       "      <td>17.2</td>\n",
       "      <td>25</td>\n",
       "      <td>6-Mar-15</td>\n",
       "    </tr>\n",
       "    <tr>\n",
       "      <th>2</th>\n",
       "      <td>Acura</td>\n",
       "      <td>CL</td>\n",
       "      <td>14.114</td>\n",
       "      <td>18.225</td>\n",
       "      <td>Passenger</td>\n",
       "      <td>.</td>\n",
       "      <td>3.2</td>\n",
       "      <td>225</td>\n",
       "      <td>106.9</td>\n",
       "      <td>70.6</td>\n",
       "      <td>192</td>\n",
       "      <td>3.47</td>\n",
       "      <td>17.2</td>\n",
       "      <td>26</td>\n",
       "      <td>1-Apr-14</td>\n",
       "    </tr>\n",
       "    <tr>\n",
       "      <th>3</th>\n",
       "      <td>Acura</td>\n",
       "      <td>RL</td>\n",
       "      <td>8.588</td>\n",
       "      <td>29.725</td>\n",
       "      <td>Passenger</td>\n",
       "      <td>42</td>\n",
       "      <td>3.5</td>\n",
       "      <td>210</td>\n",
       "      <td>114.6</td>\n",
       "      <td>71.4</td>\n",
       "      <td>196.6</td>\n",
       "      <td>3.85</td>\n",
       "      <td>18</td>\n",
       "      <td>22</td>\n",
       "      <td>3-Oct-15</td>\n",
       "    </tr>\n",
       "    <tr>\n",
       "      <th>4</th>\n",
       "      <td>Audi</td>\n",
       "      <td>A4</td>\n",
       "      <td>20.397</td>\n",
       "      <td>22.255</td>\n",
       "      <td>Passenger</td>\n",
       "      <td>23.99</td>\n",
       "      <td>1.8</td>\n",
       "      <td>150</td>\n",
       "      <td>102.6</td>\n",
       "      <td>68.2</td>\n",
       "      <td>178</td>\n",
       "      <td>2.998</td>\n",
       "      <td>16.4</td>\n",
       "      <td>27</td>\n",
       "      <td>10-Aug-15</td>\n",
       "    </tr>\n",
       "    <tr>\n",
       "      <th>...</th>\n",
       "      <td>...</td>\n",
       "      <td>...</td>\n",
       "      <td>...</td>\n",
       "      <td>...</td>\n",
       "      <td>...</td>\n",
       "      <td>...</td>\n",
       "      <td>...</td>\n",
       "      <td>...</td>\n",
       "      <td>...</td>\n",
       "      <td>...</td>\n",
       "      <td>...</td>\n",
       "      <td>...</td>\n",
       "      <td>...</td>\n",
       "      <td>...</td>\n",
       "      <td>...</td>\n",
       "    </tr>\n",
       "    <tr>\n",
       "      <th>152</th>\n",
       "      <td>Volvo</td>\n",
       "      <td>V40</td>\n",
       "      <td>3.545</td>\n",
       "      <td>.</td>\n",
       "      <td>Passenger</td>\n",
       "      <td>24.4</td>\n",
       "      <td>1.9</td>\n",
       "      <td>160</td>\n",
       "      <td>100.5</td>\n",
       "      <td>67.6</td>\n",
       "      <td>176.6</td>\n",
       "      <td>3.042</td>\n",
       "      <td>15.8</td>\n",
       "      <td>25</td>\n",
       "      <td>21-Sep-15</td>\n",
       "    </tr>\n",
       "    <tr>\n",
       "      <th>153</th>\n",
       "      <td>Volvo</td>\n",
       "      <td>S70</td>\n",
       "      <td>15.245</td>\n",
       "      <td>.</td>\n",
       "      <td>Passenger</td>\n",
       "      <td>27.5</td>\n",
       "      <td>2.4</td>\n",
       "      <td>168</td>\n",
       "      <td>104.9</td>\n",
       "      <td>69.3</td>\n",
       "      <td>185.9</td>\n",
       "      <td>3.208</td>\n",
       "      <td>17.9</td>\n",
       "      <td>25</td>\n",
       "      <td>24-Nov-14</td>\n",
       "    </tr>\n",
       "    <tr>\n",
       "      <th>154</th>\n",
       "      <td>Volvo</td>\n",
       "      <td>V70</td>\n",
       "      <td>17.531</td>\n",
       "      <td>.</td>\n",
       "      <td>Passenger</td>\n",
       "      <td>28.8</td>\n",
       "      <td>2.4</td>\n",
       "      <td>168</td>\n",
       "      <td>104.9</td>\n",
       "      <td>69.3</td>\n",
       "      <td>186.2</td>\n",
       "      <td>3.259</td>\n",
       "      <td>17.9</td>\n",
       "      <td>25</td>\n",
       "      <td>25-Jun-15</td>\n",
       "    </tr>\n",
       "    <tr>\n",
       "      <th>155</th>\n",
       "      <td>Volvo</td>\n",
       "      <td>C70</td>\n",
       "      <td>3.493</td>\n",
       "      <td>.</td>\n",
       "      <td>Passenger</td>\n",
       "      <td>45.5</td>\n",
       "      <td>2.3</td>\n",
       "      <td>236</td>\n",
       "      <td>104.9</td>\n",
       "      <td>71.5</td>\n",
       "      <td>185.7</td>\n",
       "      <td>3.601</td>\n",
       "      <td>18.5</td>\n",
       "      <td>23</td>\n",
       "      <td>26-Apr-15</td>\n",
       "    </tr>\n",
       "    <tr>\n",
       "      <th>156</th>\n",
       "      <td>Volvo</td>\n",
       "      <td>S80</td>\n",
       "      <td>18.969</td>\n",
       "      <td>.</td>\n",
       "      <td>Passenger</td>\n",
       "      <td>36</td>\n",
       "      <td>2.9</td>\n",
       "      <td>201</td>\n",
       "      <td>109.9</td>\n",
       "      <td>72.1</td>\n",
       "      <td>189.8</td>\n",
       "      <td>3.6</td>\n",
       "      <td>21.1</td>\n",
       "      <td>24</td>\n",
       "      <td>14-Nov-15</td>\n",
       "    </tr>\n",
       "  </tbody>\n",
       "</table>\n",
       "<p>157 rows × 15 columns</p>\n",
       "</div>"
      ],
      "text/plain": [
       "      Manufacturer              Model  Sales in thousands 4-year resale value  \\\n",
       "0    Acura          Integra                        16.919               16.36   \n",
       "1    Acura          TL                             39.384              19.875   \n",
       "2    Acura          CL                             14.114              18.225   \n",
       "3    Acura          RL                              8.588              29.725   \n",
       "4    Audi           A4                             20.397              22.255   \n",
       "..             ...                ...                 ...                 ...   \n",
       "152  Volvo          V40                             3.545                   .   \n",
       "153  Volvo          S70                            15.245                   .   \n",
       "154  Volvo          V70                            17.531                   .   \n",
       "155  Volvo          C70                             3.493                   .   \n",
       "156  Volvo          S80                            18.969                   .   \n",
       "\n",
       "    Vehicle type Price in thousands Engine size Horsepower Wheelbase Width  \\\n",
       "0      Passenger               21.5         1.8        140     101.2  67.3   \n",
       "1      Passenger               28.4         3.2        225     108.1  70.3   \n",
       "2      Passenger                  .         3.2        225     106.9  70.6   \n",
       "3      Passenger                 42         3.5        210     114.6  71.4   \n",
       "4      Passenger              23.99         1.8        150     102.6  68.2   \n",
       "..           ...                ...         ...        ...       ...   ...   \n",
       "152    Passenger               24.4         1.9        160     100.5  67.6   \n",
       "153    Passenger               27.5         2.4        168     104.9  69.3   \n",
       "154    Passenger               28.8         2.4        168     104.9  69.3   \n",
       "155    Passenger               45.5         2.3        236     104.9  71.5   \n",
       "156    Passenger                 36         2.9        201     109.9  72.1   \n",
       "\n",
       "    Length Curb weight Fuel capacity Fuel efficiency Latest Launch  \n",
       "0    172.4       2.639          13.2              28      2-Feb-14  \n",
       "1    192.9       3.517          17.2              25      6-Mar-15  \n",
       "2      192        3.47          17.2              26      1-Apr-14  \n",
       "3    196.6        3.85            18              22      3-Oct-15  \n",
       "4      178       2.998          16.4              27     10-Aug-15  \n",
       "..     ...         ...           ...             ...           ...  \n",
       "152  176.6       3.042          15.8              25     21-Sep-15  \n",
       "153  185.9       3.208          17.9              25     24-Nov-14  \n",
       "154  186.2       3.259          17.9              25     25-Jun-15  \n",
       "155  185.7       3.601          18.5              23     26-Apr-15  \n",
       "156  189.8         3.6          21.1              24     14-Nov-15  \n",
       "\n",
       "[157 rows x 15 columns]"
      ]
     },
     "execution_count": 12,
     "metadata": {},
     "output_type": "execute_result"
    }
   ],
   "source": [
    "#Extract the details of all manufacturer except Mitsubishi  \n",
    "et=df[df['Manufacturer'] !='Mitsubishi'] \n",
    "et"
   ]
  },
  {
   "cell_type": "code",
   "execution_count": 15,
   "id": "97e80e06-0a76-4075-9af8-f039d39f23bc",
   "metadata": {},
   "outputs": [
    {
     "data": {
      "text/plain": [
       "Manufacturer            object\n",
       "Model                   object\n",
       "Sales in thousands     float64\n",
       "4-year resale value     object\n",
       "Vehicle type            object\n",
       "Price in thousands      object\n",
       "Engine size             object\n",
       "Horsepower              object\n",
       "Wheelbase               object\n",
       "Width                   object\n",
       "Length                  object\n",
       "Curb weight             object\n",
       "Fuel capacity           object\n",
       "Fuel efficiency         object\n",
       "Latest Launch           object\n",
       "dtype: object"
      ]
     },
     "execution_count": 15,
     "metadata": {},
     "output_type": "execute_result"
    }
   ],
   "source": [
    "df.dtypes"
   ]
  },
  {
   "cell_type": "code",
   "execution_count": 16,
   "id": "0bcfa485-537d-4203-bbbe-c7658ed9e359",
   "metadata": {},
   "outputs": [
    {
     "name": "stderr",
     "output_type": "stream",
     "text": [
      "C:\\Users\\choco\\AppData\\Local\\Temp\\ipykernel_23116\\2916887072.py:1: FutureWarning: A value is trying to be set on a copy of a DataFrame or Series through chained assignment using an inplace method.\n",
      "The behavior will change in pandas 3.0. This inplace method will never work because the intermediate object on which we are setting values always behaves as a copy.\n",
      "\n",
      "For example, when doing 'df[col].method(value, inplace=True)', try using 'df.method({col: value}, inplace=True)' or df[col] = df[col].method(value) instead, to perform the operation inplace on the original object.\n",
      "\n",
      "\n",
      "  df['4-year resale value'].replace(',','',regex=True,inplace=True)\n"
     ]
    }
   ],
   "source": [
    "df['4-year resale value'].replace(',','',regex=True,inplace=True)\n"
   ]
  },
  {
   "cell_type": "code",
   "execution_count": 17,
   "id": "0dcace75-9293-4b98-98c6-ff1304711260",
   "metadata": {},
   "outputs": [
    {
     "data": {
      "text/plain": [
       "dtype('O')"
      ]
     },
     "execution_count": 17,
     "metadata": {},
     "output_type": "execute_result"
    }
   ],
   "source": [
    "df['4-year resale value'].dtype\n"
   ]
  },
  {
   "cell_type": "code",
   "execution_count": 19,
   "id": "3b27e4ff-ecaa-4220-b938-332af1f9053f",
   "metadata": {},
   "outputs": [
    {
     "data": {
      "text/plain": [
       "np.int64(0)"
      ]
     },
     "execution_count": 19,
     "metadata": {},
     "output_type": "execute_result"
    }
   ],
   "source": [
    "df['4-year resale value'].isnull().sum()\n",
    "#counts the number of null values present"
   ]
  },
  {
   "cell_type": "code",
   "execution_count": 20,
   "id": "d2f231fd-5bf0-41da-8296-21dd4d0ffa98",
   "metadata": {},
   "outputs": [
    {
     "data": {
      "text/plain": [
       "np.int64(36)"
      ]
     },
     "execution_count": 20,
     "metadata": {},
     "output_type": "execute_result"
    }
   ],
   "source": [
    "#errors='coerce' parameter in pd.to_numeric() converts to non-numeric values or invalid data to NaN(Not a number).this is useful when data might contain missing values,incorrect entries,or unexpected characters(now by using this method empty string becomes NaN value)\n",
    "df['4-year resale value']=pd.to_numeric(df['4-year resale value'],errors='coerce')\n",
    "df['4-year resale value'].isnull().sum()"
   ]
  },
  {
   "cell_type": "code",
   "execution_count": 21,
   "id": "d3e991a2-975d-4f8a-ab51-b5a4dd7a4024",
   "metadata": {},
   "outputs": [
    {
     "data": {
      "text/plain": [
       "np.float64(18.07297520661157)"
      ]
     },
     "execution_count": 21,
     "metadata": {},
     "output_type": "execute_result"
    }
   ],
   "source": [
    "df['4-year resale value'].mean()\n"
   ]
  },
  {
   "cell_type": "code",
   "execution_count": 22,
   "id": "e38dbeeb-7b52-4736-a6cf-be9beef82de9",
   "metadata": {},
   "outputs": [
    {
     "name": "stderr",
     "output_type": "stream",
     "text": [
      "C:\\Users\\choco\\AppData\\Local\\Temp\\ipykernel_23116\\4057351040.py:2: FutureWarning: A value is trying to be set on a copy of a DataFrame or Series through chained assignment using an inplace method.\n",
      "The behavior will change in pandas 3.0. This inplace method will never work because the intermediate object on which we are setting values always behaves as a copy.\n",
      "\n",
      "For example, when doing 'df[col].method(value, inplace=True)', try using 'df.method({col: value}, inplace=True)' or df[col] = df[col].method(value) instead, to perform the operation inplace on the original object.\n",
      "\n",
      "\n",
      "  df['4-year resale value'].fillna(df['4-year resale value'].mean(),inplace=True)\n"
     ]
    },
    {
     "data": {
      "text/plain": [
       "np.int64(0)"
      ]
     },
     "execution_count": 22,
     "metadata": {},
     "output_type": "execute_result"
    }
   ],
   "source": [
    "#to avoid null values mean,median,mode values can be used by using fillna method\n",
    "df['4-year resale value'].fillna(df['4-year resale value'].mean(),inplace=True)\n",
    "df['4-year resale value'].isnull().sum()"
   ]
  },
  {
   "cell_type": "code",
   "execution_count": 23,
   "id": "b7fc42ae-fd3e-4c84-9275-ef9d823f9ed1",
   "metadata": {},
   "outputs": [
    {
     "data": {
      "text/plain": [
       "dtype('float64')"
      ]
     },
     "execution_count": 23,
     "metadata": {},
     "output_type": "execute_result"
    }
   ],
   "source": [
    "df['4-year resale value'].dtype"
   ]
  },
  {
   "cell_type": "code",
   "execution_count": 25,
   "id": "75772147-748d-4c1f-8725-faefca995dc9",
   "metadata": {},
   "outputs": [
    {
     "data": {
      "text/plain": [
       "Vehicle type\n",
       "Car          16.774091\n",
       "Passenger    18.532064\n",
       "Name: 4-year resale value, dtype: float64"
      ]
     },
     "execution_count": 25,
     "metadata": {},
     "output_type": "execute_result"
    }
   ],
   "source": [
    "#Averge resale value by vehicle type\n",
    "#determine the avg 4 year RESALE value for each type of vehicle\n",
    "avg_resale_value = df.groupby('Vehicle type')['4-year resale value'].mean()\n",
    "avg_resale_value"
   ]
  },
  {
   "cell_type": "code",
   "execution_count": 26,
   "id": "8fbca338-264d-4203-bc69-4bc4b4d0871b",
   "metadata": {},
   "outputs": [],
   "source": [
    "#maximum horsepower by manufacturer"
   ]
  },
  {
   "cell_type": "code",
   "execution_count": 27,
   "id": "cdd2bef3-3257-436a-9d05-d24c04408e48",
   "metadata": {},
   "outputs": [
    {
     "data": {
      "text/plain": [
       "<bound method NDFrame.describe of       Manufacturer              Model  Sales in thousands  \\\n",
       "0    Acura          Integra                        16.919   \n",
       "1    Acura          TL                             39.384   \n",
       "2    Acura          CL                             14.114   \n",
       "3    Acura          RL                              8.588   \n",
       "4    Audi           A4                             20.397   \n",
       "..             ...                ...                 ...   \n",
       "152  Volvo          V40                             3.545   \n",
       "153  Volvo          S70                            15.245   \n",
       "154  Volvo          V70                            17.531   \n",
       "155  Volvo          C70                             3.493   \n",
       "156  Volvo          S80                            18.969   \n",
       "\n",
       "     4-year resale value Vehicle type Price in thousands Engine size  \\\n",
       "0              16.360000    Passenger               21.5         1.8   \n",
       "1              19.875000    Passenger               28.4         3.2   \n",
       "2              18.225000    Passenger                  .         3.2   \n",
       "3              29.725000    Passenger                 42         3.5   \n",
       "4              22.255000    Passenger              23.99         1.8   \n",
       "..                   ...          ...                ...         ...   \n",
       "152            18.072975    Passenger               24.4         1.9   \n",
       "153            18.072975    Passenger               27.5         2.4   \n",
       "154            18.072975    Passenger               28.8         2.4   \n",
       "155            18.072975    Passenger               45.5         2.3   \n",
       "156            18.072975    Passenger                 36         2.9   \n",
       "\n",
       "    Horsepower Wheelbase Width Length Curb weight Fuel capacity  \\\n",
       "0          140     101.2  67.3  172.4       2.639          13.2   \n",
       "1          225     108.1  70.3  192.9       3.517          17.2   \n",
       "2          225     106.9  70.6    192        3.47          17.2   \n",
       "3          210     114.6  71.4  196.6        3.85            18   \n",
       "4          150     102.6  68.2    178       2.998          16.4   \n",
       "..         ...       ...   ...    ...         ...           ...   \n",
       "152        160     100.5  67.6  176.6       3.042          15.8   \n",
       "153        168     104.9  69.3  185.9       3.208          17.9   \n",
       "154        168     104.9  69.3  186.2       3.259          17.9   \n",
       "155        236     104.9  71.5  185.7       3.601          18.5   \n",
       "156        201     109.9  72.1  189.8         3.6          21.1   \n",
       "\n",
       "    Fuel efficiency Latest Launch  \n",
       "0                28      2-Feb-14  \n",
       "1                25      6-Mar-15  \n",
       "2                26      1-Apr-14  \n",
       "3                22      3-Oct-15  \n",
       "4                27     10-Aug-15  \n",
       "..              ...           ...  \n",
       "152              25     21-Sep-15  \n",
       "153              25     24-Nov-14  \n",
       "154              25     25-Jun-15  \n",
       "155              23     26-Apr-15  \n",
       "156              24     14-Nov-15  \n",
       "\n",
       "[157 rows x 15 columns]>"
      ]
     },
     "execution_count": 27,
     "metadata": {},
     "output_type": "execute_result"
    }
   ],
   "source": [
    "df.describe"
   ]
  },
  {
   "cell_type": "code",
   "execution_count": 29,
   "id": "54fb5357-64cd-4364-9a7c-cd92f8654f22",
   "metadata": {},
   "outputs": [
    {
     "data": {
      "text/plain": [
       "dtype('O')"
      ]
     },
     "execution_count": 29,
     "metadata": {},
     "output_type": "execute_result"
    }
   ],
   "source": [
    "df['Horsepower'].dtype"
   ]
  },
  {
   "cell_type": "code",
   "execution_count": 30,
   "id": "fb6e08a5-a383-496e-9bed-235fa9ee3af7",
   "metadata": {},
   "outputs": [
    {
     "data": {
      "text/plain": [
       "np.int64(1)"
      ]
     },
     "execution_count": 30,
     "metadata": {},
     "output_type": "execute_result"
    }
   ],
   "source": [
    "df['Horsepower']=pd.to_numeric(df['Horsepower'],errors='coerce')\n",
    "df['Horsepower'].isnull().sum()"
   ]
  },
  {
   "cell_type": "code",
   "execution_count": 31,
   "id": "19e984cc-72c0-400b-a0ed-2b38302a2903",
   "metadata": {},
   "outputs": [
    {
     "data": {
      "text/plain": [
       "Manufacturer\n",
       "Acura            225.0\n",
       "Audi             310.0\n",
       "BMW              193.0\n",
       "Buick            240.0\n",
       "Cadillac         275.0\n",
       "Chevrolet        345.0\n",
       "Chrysler         253.0\n",
       "Dodge            450.0\n",
       "Ford             240.0\n",
       "Honda            210.0\n",
       "Hyundai          148.0\n",
       "Infiniti         227.0\n",
       "Jaguar           240.0\n",
       "Jeep             195.0\n",
       "Lexus            300.0\n",
       "Lincoln          300.0\n",
       "Mercedes-Benz    302.0\n",
       "Mercury          210.0\n",
       "Mitsubishi       210.0\n",
       "Nissan           222.0\n",
       "Oldsmobile       250.0\n",
       "Plymouth         253.0\n",
       "Pontiac          205.0\n",
       "Porsche          300.0\n",
       "Saab             185.0\n",
       "Saturn           137.0\n",
       "Subaru           165.0\n",
       "Toyota           230.0\n",
       "Volkswagen       150.0\n",
       "Volvo            236.0\n",
       "Name: Horsepower, dtype: float64"
      ]
     },
     "execution_count": 31,
     "metadata": {},
     "output_type": "execute_result"
    }
   ],
   "source": [
    "max_horsepower = df.groupby('Manufacturer')['Horsepower'].max()\n",
    "max_horsepower"
   ]
  },
  {
   "cell_type": "code",
   "execution_count": 32,
   "id": "94d0198e-5867-4be5-b37e-a4c706a58c50",
   "metadata": {},
   "outputs": [],
   "source": [
    "#calculate the  avg fuel efficiency for each manufacturer and vehicle type combination"
   ]
  },
  {
   "cell_type": "code",
   "execution_count": 34,
   "id": "091ad02d-37e7-4f1c-9b1d-bc57e4d59705",
   "metadata": {},
   "outputs": [
    {
     "data": {
      "text/plain": [
       "np.int64(3)"
      ]
     },
     "execution_count": 34,
     "metadata": {},
     "output_type": "execute_result"
    }
   ],
   "source": [
    "df['Fuel efficiency']=pd.to_numeric(df['Fuel efficiency'],errors='coerce')\n",
    "#changes data type of Fuel efficiency to numeric\n",
    "df['Fuel efficiency'].isnull().sum()"
   ]
  },
  {
   "cell_type": "code",
   "execution_count": 37,
   "id": "f6917275-4431-4f67-80ca-dc0d3d0f03c2",
   "metadata": {},
   "outputs": [
    {
     "data": {
      "text/plain": [
       "Manufacturer   Vehicle type\n",
       "Acura          Passenger       25.250000\n",
       "Audi           Passenger       23.333333\n",
       "BMW            Passenger       25.000000\n",
       "Buick          Passenger       24.250000\n",
       "Cadillac       Car             15.000000\n",
       "               Passenger       22.000000\n",
       "Chevrolet      Passenger       28.444444\n",
       "Chrysler       Car                   NaN\n",
       "               Passenger       24.500000\n",
       "Dodge          Car             18.000000\n",
       "               Passenger       23.250000\n",
       "Ford           Car             19.400000\n",
       "               Passenger       25.666667\n",
       "Honda          Car             22.000000\n",
       "               Passenger       29.500000\n",
       "Hyundai        Passenger       27.666667\n",
       "Infiniti       Passenger       25.000000\n",
       "Jaguar         Passenger       21.000000\n",
       "Jeep           Car             18.666667\n",
       "Lexus          Car             18.000000\n",
       "               Passenger       22.250000\n",
       "Lincoln        Car             15.000000\n",
       "               Passenger       21.500000\n",
       "Mercedes-Benz  Car             20.000000\n",
       "               Passenger       23.875000\n",
       "Mercury        Car             19.500000\n",
       "               Passenger       25.750000\n",
       "Mitsubishi     Car             19.000000\n",
       "               Passenger       24.400000\n",
       "Nissan         Car             19.000000\n",
       "               Passenger       26.666667\n",
       "Oldsmobile     Car             20.500000\n",
       "               Passenger       24.666667\n",
       "Plymouth       Car             24.000000\n",
       "               Passenger       25.666667\n",
       "Pontiac        Car             23.000000\n",
       "               Passenger       25.200000\n",
       "Porsche        Passenger       22.000000\n",
       "Saab           Passenger       23.000000\n",
       "Saturn         Passenger       30.400000\n",
       "Subaru         Car             24.000000\n",
       "               Passenger       25.000000\n",
       "Toyota         Car             22.000000\n",
       "               Passenger       29.250000\n",
       "Volkswagen     Passenger       26.166667\n",
       "Volvo          Passenger       24.500000\n",
       "Name: Fuel efficiency, dtype: float64"
      ]
     },
     "execution_count": 37,
     "metadata": {},
     "output_type": "execute_result"
    }
   ],
   "source": [
    "df.groupby(['Manufacturer','Vehicle type'])['Fuel efficiency'].mean()"
   ]
  },
  {
   "cell_type": "code",
   "execution_count": 38,
   "id": "99ba55af-fb9b-4e8a-9a56-b96c032ac31e",
   "metadata": {},
   "outputs": [
    {
     "data": {
      "text/plain": [
       "Manufacturer\n",
       "Acura             4\n",
       "Audi              3\n",
       "BMW               3\n",
       "Buick             4\n",
       "Cadillac          5\n",
       "Chevrolet         9\n",
       "Chrysler          7\n",
       "Dodge            11\n",
       "Ford             11\n",
       "Honda             5\n",
       "Hyundai           3\n",
       "Infiniti          1\n",
       "Jaguar            1\n",
       "Jeep              3\n",
       "Lexus             6\n",
       "Lincoln           3\n",
       "Mercedes-Benz     9\n",
       "Mercury           6\n",
       "Mitsubishi        7\n",
       "Nissan            7\n",
       "Oldsmobile        6\n",
       "Plymouth          4\n",
       "Pontiac           6\n",
       "Porsche           3\n",
       "Saab              2\n",
       "Saturn            5\n",
       "Subaru            2\n",
       "Toyota            9\n",
       "Volkswagen        6\n",
       "Volvo             6\n",
       "Name: Model, dtype: int64"
      ]
     },
     "execution_count": 38,
     "metadata": {},
     "output_type": "execute_result"
    }
   ],
   "source": [
    "#count of cars by manufacturer\n",
    "df.groupby('Manufacturer')['Model'].count()"
   ]
  },
  {
   "cell_type": "code",
   "execution_count": 39,
   "id": "7470474f-e3bc-44d5-a0e3-cca95e0a3033",
   "metadata": {},
   "outputs": [],
   "source": [
    "#average car price by manufacturer\n"
   ]
  },
  {
   "cell_type": "code",
   "execution_count": 40,
   "id": "d0499f79-4226-4802-8b99-6695f5011962",
   "metadata": {},
   "outputs": [
    {
     "name": "stdout",
     "output_type": "stream",
     "text": [
      "<class 'pandas.core.frame.DataFrame'>\n",
      "RangeIndex: 157 entries, 0 to 156\n",
      "Data columns (total 15 columns):\n",
      " #   Column               Non-Null Count  Dtype  \n",
      "---  ------               --------------  -----  \n",
      " 0   Manufacturer         157 non-null    object \n",
      " 1   Model                157 non-null    object \n",
      " 2   Sales in thousands   157 non-null    float64\n",
      " 3   4-year resale value  157 non-null    float64\n",
      " 4   Vehicle type         157 non-null    object \n",
      " 5   Price in thousands   157 non-null    object \n",
      " 6   Engine size          157 non-null    object \n",
      " 7   Horsepower           156 non-null    float64\n",
      " 8   Wheelbase            157 non-null    object \n",
      " 9   Width                157 non-null    object \n",
      " 10  Length               157 non-null    object \n",
      " 11  Curb weight          157 non-null    object \n",
      " 12  Fuel capacity        157 non-null    object \n",
      " 13  Fuel efficiency      154 non-null    float64\n",
      " 14  Latest Launch        157 non-null    object \n",
      "dtypes: float64(4), object(11)\n",
      "memory usage: 18.5+ KB\n"
     ]
    }
   ],
   "source": [
    "df.info()"
   ]
  },
  {
   "cell_type": "code",
   "execution_count": 41,
   "id": "98ad100e-038d-479e-995c-1fd47c32bcc7",
   "metadata": {},
   "outputs": [
    {
     "data": {
      "text/plain": [
       "np.int64(2)"
      ]
     },
     "execution_count": 41,
     "metadata": {},
     "output_type": "execute_result"
    }
   ],
   "source": [
    "df['Price in thousands']=pd.to_numeric(df['Price in thousands'],errors='coerce')\n",
    "df['Price in thousands'].isnull().sum()"
   ]
  },
  {
   "cell_type": "code",
   "execution_count": 42,
   "id": "8a4484e5-cc6f-436e-aa1f-90512c13fb92",
   "metadata": {},
   "outputs": [
    {
     "data": {
      "text/plain": [
       "Manufacturer\n",
       "Acura            30.633333\n",
       "Audi             39.980000\n",
       "BMW              33.096667\n",
       "Buick            26.781250\n",
       "Cadillac         40.254000\n",
       "Chevrolet        20.022778\n",
       "Chrysler         23.430833\n",
       "Dodge            24.213636\n",
       "Ford             21.047273\n",
       "Honda            20.277000\n",
       "Hyundai          12.165667\n",
       "Infiniti         29.465000\n",
       "Jaguar           42.800000\n",
       "Jeep             20.991667\n",
       "Lexus            44.055000\n",
       "Lincoln          41.690000\n",
       "Mercedes-Benz    52.916667\n",
       "Mercury          20.748333\n",
       "Mitsubishi       22.167429\n",
       "Nissan           22.360714\n",
       "Oldsmobile       25.622833\n",
       "Plymouth         22.642500\n",
       "Pontiac          22.949167\n",
       "Porsche          62.473333\n",
       "Saab             29.610000\n",
       "Saturn           14.271000\n",
       "Subaru           21.395000\n",
       "Toyota           21.982889\n",
       "Volkswagen       17.698333\n",
       "Volvo            30.933333\n",
       "Name: Price in thousands, dtype: float64"
      ]
     },
     "execution_count": 42,
     "metadata": {},
     "output_type": "execute_result"
    }
   ],
   "source": [
    "df.groupby('Manufacturer')['Price in thousands'].mean()"
   ]
  },
  {
   "cell_type": "code",
   "execution_count": 43,
   "id": "4d721bc6-aa2f-4447-8b3c-ab64aac62e15",
   "metadata": {},
   "outputs": [
    {
     "data": {
      "text/plain": [
       "np.int64(1)"
      ]
     },
     "execution_count": 43,
     "metadata": {},
     "output_type": "execute_result"
    }
   ],
   "source": [
    "#total fuel capacity by vehicle type\n",
    "df['Fuel capacity']=pd.to_numeric(df['Fuel capacity'],errors='coerce')\n",
    "df['Fuel capacity'].isnull().sum()"
   ]
  },
  {
   "cell_type": "code",
   "execution_count": 44,
   "id": "3019723c-092d-46b4-b5b5-83ae0c3b374f",
   "metadata": {},
   "outputs": [
    {
     "data": {
      "text/plain": [
       "Vehicle type\n",
       "Car           875.8\n",
       "Passenger    1924.7\n",
       "Name: Fuel capacity, dtype: float64"
      ]
     },
     "execution_count": 44,
     "metadata": {},
     "output_type": "execute_result"
    }
   ],
   "source": [
    "df.groupby('Vehicle type')['Fuel capacity'].sum()"
   ]
  },
  {
   "cell_type": "code",
   "execution_count": 45,
   "id": "487d9cae-0bd5-4931-8e22-645032f91dc4",
   "metadata": {},
   "outputs": [
    {
     "name": "stdout",
     "output_type": "stream",
     "text": [
      "<class 'pandas.core.frame.DataFrame'>\n",
      "RangeIndex: 157 entries, 0 to 156\n",
      "Data columns (total 15 columns):\n",
      " #   Column               Non-Null Count  Dtype  \n",
      "---  ------               --------------  -----  \n",
      " 0   Manufacturer         157 non-null    object \n",
      " 1   Model                157 non-null    object \n",
      " 2   Sales in thousands   157 non-null    float64\n",
      " 3   4-year resale value  157 non-null    float64\n",
      " 4   Vehicle type         157 non-null    object \n",
      " 5   Price in thousands   155 non-null    float64\n",
      " 6   Engine size          157 non-null    object \n",
      " 7   Horsepower           156 non-null    float64\n",
      " 8   Wheelbase            157 non-null    object \n",
      " 9   Width                157 non-null    object \n",
      " 10  Length               157 non-null    object \n",
      " 11  Curb weight          157 non-null    object \n",
      " 12  Fuel capacity        156 non-null    float64\n",
      " 13  Fuel efficiency      154 non-null    float64\n",
      " 14  Latest Launch        157 non-null    object \n",
      "dtypes: float64(6), object(9)\n",
      "memory usage: 18.5+ KB\n"
     ]
    }
   ],
   "source": [
    "#Highest Resale value car for each manufacturer\n",
    "#Find the model with the highest 4 year resale value for each manufacturer\n",
    "df.info()"
   ]
  },
  {
   "cell_type": "code",
   "execution_count": 46,
   "id": "91941f88-be3d-4f26-87c5-fe9cdf57f58b",
   "metadata": {},
   "outputs": [
    {
     "data": {
      "text/plain": [
       "Manufacturer\n",
       "Acura              3\n",
       "Audi               6\n",
       "BMW                9\n",
       "Buick             12\n",
       "Cadillac          15\n",
       "Chevrolet         24\n",
       "Chrysler          33\n",
       "Dodge             39\n",
       "Ford              54\n",
       "Honda             61\n",
       "Hyundai           64\n",
       "Infiniti          65\n",
       "Jaguar            66\n",
       "Jeep              69\n",
       "Lexus             73\n",
       "Lincoln           77\n",
       "Mercedes-Benz     95\n",
       "Mercury           90\n",
       "Mitsubishi        83\n",
       "Nissan           106\n",
       "Oldsmobile       112\n",
       "Plymouth         117\n",
       "Pontiac          123\n",
       "Porsche          126\n",
       "Saab             127\n",
       "Saturn           132\n",
       "Subaru           134\n",
       "Toyota           144\n",
       "Volkswagen       150\n",
       "Volvo            151\n",
       "Name: 4-year resale value, dtype: int64"
      ]
     },
     "execution_count": 46,
     "metadata": {},
     "output_type": "execute_result"
    }
   ],
   "source": [
    "#idxmax():index return the id correspodent max for 4 year resale value\n",
    "max_resale_car=df.groupby('Manufacturer')['4-year resale value'].idxmax()\n",
    "max_resale_car"
   ]
  },
  {
   "cell_type": "code",
   "execution_count": 47,
   "id": "e40233a6-c3e6-4bab-8c60-b5b803f2f612",
   "metadata": {},
   "outputs": [
    {
     "data": {
      "text/html": [
       "<div>\n",
       "<style scoped>\n",
       "    .dataframe tbody tr th:only-of-type {\n",
       "        vertical-align: middle;\n",
       "    }\n",
       "\n",
       "    .dataframe tbody tr th {\n",
       "        vertical-align: top;\n",
       "    }\n",
       "\n",
       "    .dataframe thead th {\n",
       "        text-align: right;\n",
       "    }\n",
       "</style>\n",
       "<table border=\"1\" class=\"dataframe\">\n",
       "  <thead>\n",
       "    <tr style=\"text-align: right;\">\n",
       "      <th></th>\n",
       "      <th>index</th>\n",
       "      <th>Manufacturer</th>\n",
       "      <th>Model</th>\n",
       "      <th>4-year resale value</th>\n",
       "    </tr>\n",
       "  </thead>\n",
       "  <tbody>\n",
       "    <tr>\n",
       "      <th>0</th>\n",
       "      <td>3</td>\n",
       "      <td>Acura</td>\n",
       "      <td>RL</td>\n",
       "      <td>29.725000</td>\n",
       "    </tr>\n",
       "    <tr>\n",
       "      <th>1</th>\n",
       "      <td>6</td>\n",
       "      <td>Audi</td>\n",
       "      <td>A8</td>\n",
       "      <td>39.000000</td>\n",
       "    </tr>\n",
       "    <tr>\n",
       "      <th>2</th>\n",
       "      <td>9</td>\n",
       "      <td>BMW</td>\n",
       "      <td>528i</td>\n",
       "      <td>36.125000</td>\n",
       "    </tr>\n",
       "    <tr>\n",
       "      <th>3</th>\n",
       "      <td>12</td>\n",
       "      <td>Buick</td>\n",
       "      <td>Park Avenue</td>\n",
       "      <td>20.190000</td>\n",
       "    </tr>\n",
       "    <tr>\n",
       "      <th>4</th>\n",
       "      <td>15</td>\n",
       "      <td>Cadillac</td>\n",
       "      <td>Seville</td>\n",
       "      <td>27.100000</td>\n",
       "    </tr>\n",
       "    <tr>\n",
       "      <th>5</th>\n",
       "      <td>24</td>\n",
       "      <td>Chevrolet</td>\n",
       "      <td>Corvette</td>\n",
       "      <td>36.225000</td>\n",
       "    </tr>\n",
       "    <tr>\n",
       "      <th>6</th>\n",
       "      <td>33</td>\n",
       "      <td>Chrysler</td>\n",
       "      <td>Town &amp; Country</td>\n",
       "      <td>19.540000</td>\n",
       "    </tr>\n",
       "    <tr>\n",
       "      <th>7</th>\n",
       "      <td>39</td>\n",
       "      <td>Dodge</td>\n",
       "      <td>Viper</td>\n",
       "      <td>58.470000</td>\n",
       "    </tr>\n",
       "    <tr>\n",
       "      <th>8</th>\n",
       "      <td>54</td>\n",
       "      <td>Ford</td>\n",
       "      <td>Expedition</td>\n",
       "      <td>23.575000</td>\n",
       "    </tr>\n",
       "    <tr>\n",
       "      <th>9</th>\n",
       "      <td>61</td>\n",
       "      <td>Honda</td>\n",
       "      <td>Odyssey</td>\n",
       "      <td>19.490000</td>\n",
       "    </tr>\n",
       "    <tr>\n",
       "      <th>10</th>\n",
       "      <td>64</td>\n",
       "      <td>Hyundai</td>\n",
       "      <td>Sonata</td>\n",
       "      <td>8.910000</td>\n",
       "    </tr>\n",
       "    <tr>\n",
       "      <th>11</th>\n",
       "      <td>65</td>\n",
       "      <td>Infiniti</td>\n",
       "      <td>I30</td>\n",
       "      <td>19.690000</td>\n",
       "    </tr>\n",
       "    <tr>\n",
       "      <th>12</th>\n",
       "      <td>66</td>\n",
       "      <td>Jaguar</td>\n",
       "      <td>S-Type</td>\n",
       "      <td>18.072975</td>\n",
       "    </tr>\n",
       "    <tr>\n",
       "      <th>13</th>\n",
       "      <td>69</td>\n",
       "      <td>Jeep</td>\n",
       "      <td>Grand Cherokee</td>\n",
       "      <td>18.810000</td>\n",
       "    </tr>\n",
       "    <tr>\n",
       "      <th>14</th>\n",
       "      <td>73</td>\n",
       "      <td>Lexus</td>\n",
       "      <td>LS400</td>\n",
       "      <td>40.375000</td>\n",
       "    </tr>\n",
       "    <tr>\n",
       "      <th>15</th>\n",
       "      <td>77</td>\n",
       "      <td>Lincoln</td>\n",
       "      <td>Town car</td>\n",
       "      <td>21.725000</td>\n",
       "    </tr>\n",
       "    <tr>\n",
       "      <th>16</th>\n",
       "      <td>95</td>\n",
       "      <td>Mercedes-Benz</td>\n",
       "      <td>SL-Class</td>\n",
       "      <td>58.600000</td>\n",
       "    </tr>\n",
       "    <tr>\n",
       "      <th>17</th>\n",
       "      <td>90</td>\n",
       "      <td>Mercury</td>\n",
       "      <td>Mountaineer</td>\n",
       "      <td>20.430000</td>\n",
       "    </tr>\n",
       "    <tr>\n",
       "      <th>18</th>\n",
       "      <td>83</td>\n",
       "      <td>Mitsubishi</td>\n",
       "      <td>3000GT</td>\n",
       "      <td>20.940000</td>\n",
       "    </tr>\n",
       "    <tr>\n",
       "      <th>19</th>\n",
       "      <td>106</td>\n",
       "      <td>Nissan</td>\n",
       "      <td>Xterra</td>\n",
       "      <td>18.072975</td>\n",
       "    </tr>\n",
       "    <tr>\n",
       "      <th>20</th>\n",
       "      <td>112</td>\n",
       "      <td>Oldsmobile</td>\n",
       "      <td>Bravada</td>\n",
       "      <td>19.925000</td>\n",
       "    </tr>\n",
       "    <tr>\n",
       "      <th>21</th>\n",
       "      <td>117</td>\n",
       "      <td>Plymouth</td>\n",
       "      <td>Prowler</td>\n",
       "      <td>18.072975</td>\n",
       "    </tr>\n",
       "    <tr>\n",
       "      <th>22</th>\n",
       "      <td>123</td>\n",
       "      <td>Pontiac</td>\n",
       "      <td>Montana</td>\n",
       "      <td>18.072975</td>\n",
       "    </tr>\n",
       "    <tr>\n",
       "      <th>23</th>\n",
       "      <td>126</td>\n",
       "      <td>Porsche</td>\n",
       "      <td>Carrera Cabriolet</td>\n",
       "      <td>67.550000</td>\n",
       "    </tr>\n",
       "    <tr>\n",
       "      <th>24</th>\n",
       "      <td>127</td>\n",
       "      <td>Saab</td>\n",
       "      <td>5-Sep</td>\n",
       "      <td>18.072975</td>\n",
       "    </tr>\n",
       "    <tr>\n",
       "      <th>25</th>\n",
       "      <td>132</td>\n",
       "      <td>Saturn</td>\n",
       "      <td>LW</td>\n",
       "      <td>18.072975</td>\n",
       "    </tr>\n",
       "    <tr>\n",
       "      <th>26</th>\n",
       "      <td>134</td>\n",
       "      <td>Subaru</td>\n",
       "      <td>Outback</td>\n",
       "      <td>18.072975</td>\n",
       "    </tr>\n",
       "    <tr>\n",
       "      <th>27</th>\n",
       "      <td>144</td>\n",
       "      <td>Toyota</td>\n",
       "      <td>Land Cruiser</td>\n",
       "      <td>34.080000</td>\n",
       "    </tr>\n",
       "    <tr>\n",
       "      <th>28</th>\n",
       "      <td>150</td>\n",
       "      <td>Volkswagen</td>\n",
       "      <td>Beetle</td>\n",
       "      <td>18.072975</td>\n",
       "    </tr>\n",
       "    <tr>\n",
       "      <th>29</th>\n",
       "      <td>151</td>\n",
       "      <td>Volvo</td>\n",
       "      <td>S40</td>\n",
       "      <td>18.072975</td>\n",
       "    </tr>\n",
       "  </tbody>\n",
       "</table>\n",
       "</div>"
      ],
      "text/plain": [
       "    index   Manufacturer              Model  4-year resale value\n",
       "0       3  Acura          RL                           29.725000\n",
       "1       6  Audi           A8                           39.000000\n",
       "2       9  BMW            528i                         36.125000\n",
       "3      12  Buick          Park Avenue                  20.190000\n",
       "4      15  Cadillac       Seville                      27.100000\n",
       "5      24  Chevrolet      Corvette                     36.225000\n",
       "6      33  Chrysler       Town & Country               19.540000\n",
       "7      39  Dodge          Viper                        58.470000\n",
       "8      54  Ford           Expedition                   23.575000\n",
       "9      61  Honda          Odyssey                      19.490000\n",
       "10     64  Hyundai        Sonata                        8.910000\n",
       "11     65  Infiniti       I30                          19.690000\n",
       "12     66  Jaguar         S-Type                       18.072975\n",
       "13     69  Jeep           Grand Cherokee               18.810000\n",
       "14     73  Lexus          LS400                        40.375000\n",
       "15     77  Lincoln        Town car                     21.725000\n",
       "16     95  Mercedes-Benz  SL-Class                     58.600000\n",
       "17     90  Mercury        Mountaineer                  20.430000\n",
       "18     83  Mitsubishi     3000GT                       20.940000\n",
       "19    106  Nissan         Xterra                       18.072975\n",
       "20    112  Oldsmobile     Bravada                      19.925000\n",
       "21    117  Plymouth       Prowler                      18.072975\n",
       "22    123  Pontiac        Montana                      18.072975\n",
       "23    126  Porsche        Carrera Cabriolet            67.550000\n",
       "24    127  Saab                       5-Sep            18.072975\n",
       "25    132  Saturn         LW                           18.072975\n",
       "26    134  Subaru         Outback                      18.072975\n",
       "27    144  Toyota         Land Cruiser                 34.080000\n",
       "28    150  Volkswagen     Beetle                       18.072975\n",
       "29    151  Volvo          S40                          18.072975"
      ]
     },
     "execution_count": 47,
     "metadata": {},
     "output_type": "execute_result"
    }
   ],
   "source": [
    "df.loc[max_resale_car,['Manufacturer','Model','4-year resale value']].reset_index()"
   ]
  },
  {
   "cell_type": "code",
   "execution_count": 48,
   "id": "501d7c6b-d403-4688-b705-3500dac637bd",
   "metadata": {},
   "outputs": [
    {
     "name": "stdout",
     "output_type": "stream",
     "text": [
      "<class 'pandas.core.frame.DataFrame'>\n",
      "RangeIndex: 157 entries, 0 to 156\n",
      "Data columns (total 15 columns):\n",
      " #   Column               Non-Null Count  Dtype  \n",
      "---  ------               --------------  -----  \n",
      " 0   Manufacturer         157 non-null    object \n",
      " 1   Model                157 non-null    object \n",
      " 2   Sales in thousands   157 non-null    float64\n",
      " 3   4-year resale value  157 non-null    float64\n",
      " 4   Vehicle type         157 non-null    object \n",
      " 5   Price in thousands   155 non-null    float64\n",
      " 6   Engine size          157 non-null    object \n",
      " 7   Horsepower           156 non-null    float64\n",
      " 8   Wheelbase            157 non-null    object \n",
      " 9   Width                157 non-null    object \n",
      " 10  Length               157 non-null    object \n",
      " 11  Curb weight          157 non-null    object \n",
      " 12  Fuel capacity        156 non-null    float64\n",
      " 13  Fuel efficiency      154 non-null    float64\n",
      " 14  Latest Launch        157 non-null    object \n",
      "dtypes: float64(6), object(9)\n",
      "memory usage: 18.5+ KB\n"
     ]
    }
   ],
   "source": [
    "#Number of cars launched per year\n",
    "#extract the year from the latest launch column and count the number of cars launched in each year\n",
    "df.info()"
   ]
  },
  {
   "cell_type": "code",
   "execution_count": 49,
   "id": "9e3f764f-d266-4e70-8873-006e874294bf",
   "metadata": {},
   "outputs": [
    {
     "name": "stderr",
     "output_type": "stream",
     "text": [
      "C:\\Users\\choco\\AppData\\Local\\Temp\\ipykernel_23116\\1734778518.py:2: UserWarning: Could not infer format, so each element will be parsed individually, falling back to `dateutil`. To ensure parsing is consistent and as-expected, please specify a format.\n",
      "  df['Latest Launch']=pd.to_datetime(df['Latest Launch'])\n"
     ]
    },
    {
     "data": {
      "text/plain": [
       "np.int64(0)"
      ]
     },
     "execution_count": 49,
     "metadata": {},
     "output_type": "execute_result"
    }
   ],
   "source": [
    "\n",
    "#check from this\n",
    "df['Latest Launch']=pd.to_datetime(df['Latest Launch'])\n",
    "df['Latest Launch'].isnull().sum()"
   ]
  },
  {
   "cell_type": "code",
   "execution_count": 50,
   "id": "86bda2c5-f822-40cf-a32f-869088da0efb",
   "metadata": {},
   "outputs": [
    {
     "data": {
      "text/plain": [
       "Latest Launch\n",
       "2015    79\n",
       "2014    75\n",
       "2009     2\n",
       "2008     1\n",
       "Name: count, dtype: int64"
      ]
     },
     "execution_count": 50,
     "metadata": {},
     "output_type": "execute_result"
    }
   ],
   "source": [
    "df['Latest Launch'].dt.year.value_counts()"
   ]
  },
  {
   "cell_type": "code",
   "execution_count": 51,
   "id": "94f625c8-2157-46ae-b04c-31f838b27fdc",
   "metadata": {},
   "outputs": [
    {
     "data": {
      "text/plain": [
       "Manufacturer\n",
       "Acura             4\n",
       "Audi              3\n",
       "BMW               3\n",
       "Buick             4\n",
       "Cadillac          5\n",
       "Chevrolet         9\n",
       "Chrysler          7\n",
       "Dodge            11\n",
       "Ford             11\n",
       "Honda             5\n",
       "Hyundai           3\n",
       "Infiniti          1\n",
       "Jaguar            1\n",
       "Jeep              3\n",
       "Lexus             6\n",
       "Lincoln           3\n",
       "Mercedes-Benz     9\n",
       "Mercury           6\n",
       "Mitsubishi        7\n",
       "Nissan            7\n",
       "Oldsmobile        6\n",
       "Plymouth          4\n",
       "Pontiac           6\n",
       "Porsche           3\n",
       "Saab              2\n",
       "Saturn            5\n",
       "Subaru            2\n",
       "Toyota            9\n",
       "Volkswagen        6\n",
       "Volvo             6\n",
       "Name: Latest Launch, dtype: int64"
      ]
     },
     "execution_count": 51,
     "metadata": {},
     "output_type": "execute_result"
    }
   ],
   "source": [
    "df.groupby('Manufacturer')['Latest Launch'].count()"
   ]
  },
  {
   "cell_type": "code",
   "execution_count": null,
   "id": "47180e1e-8947-469a-bb08-b4329cea0c24",
   "metadata": {},
   "outputs": [],
   "source": []
  }
 ],
 "metadata": {
  "kernelspec": {
   "display_name": "Python 3 (ipykernel)",
   "language": "python",
   "name": "python3"
  },
  "language_info": {
   "codemirror_mode": {
    "name": "ipython",
    "version": 3
   },
   "file_extension": ".py",
   "mimetype": "text/x-python",
   "name": "python",
   "nbconvert_exporter": "python",
   "pygments_lexer": "ipython3",
   "version": "3.12.5"
  }
 },
 "nbformat": 4,
 "nbformat_minor": 5
}
