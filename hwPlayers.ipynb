{
 "cells": [
  {
   "cell_type": "code",
   "execution_count": 1,
   "id": "e282888c-80a7-4a2c-af36-b9f9687b79a2",
   "metadata": {},
   "outputs": [],
   "source": [
    "import pandas as pd"
   ]
  },
  {
   "cell_type": "code",
   "execution_count": 2,
   "id": "9816bb9d-038a-4d6f-99c3-d72e1f9366a1",
   "metadata": {},
   "outputs": [],
   "source": [
    "import numpy as np"
   ]
  },
  {
   "cell_type": "code",
   "execution_count": 3,
   "id": "549d9352-6b09-49b2-830f-b24afcee532e",
   "metadata": {},
   "outputs": [],
   "source": [
    "import warnings\n",
    "warnings.filterwarnings('ignore')"
   ]
  },
  {
   "cell_type": "code",
   "execution_count": 4,
   "id": "3747ecbe-d16b-4b05-ae60-a971e59e6426",
   "metadata": {},
   "outputs": [],
   "source": [
    "import matplotlib.pyplot as plt"
   ]
  },
  {
   "cell_type": "code",
   "execution_count": 5,
   "id": "6d0175a6-35ad-4ba8-8681-e1e3b3cd3aec",
   "metadata": {},
   "outputs": [],
   "source": [
    "import seaborn as sns"
   ]
  },
  {
   "cell_type": "code",
   "execution_count": 6,
   "id": "0e342e72-bb01-494b-b5db-26d42af6f8bd",
   "metadata": {},
   "outputs": [
    {
     "data": {
      "text/html": [
       "<div>\n",
       "<style scoped>\n",
       "    .dataframe tbody tr th:only-of-type {\n",
       "        vertical-align: middle;\n",
       "    }\n",
       "\n",
       "    .dataframe tbody tr th {\n",
       "        vertical-align: top;\n",
       "    }\n",
       "\n",
       "    .dataframe thead th {\n",
       "        text-align: right;\n",
       "    }\n",
       "</style>\n",
       "<table border=\"1\" class=\"dataframe\">\n",
       "  <thead>\n",
       "    <tr style=\"text-align: right;\">\n",
       "      <th></th>\n",
       "      <th>ID</th>\n",
       "      <th>Name</th>\n",
       "      <th>Age</th>\n",
       "      <th>Photo</th>\n",
       "      <th>Nationality</th>\n",
       "      <th>Flag</th>\n",
       "      <th>Overall</th>\n",
       "      <th>Potential</th>\n",
       "      <th>Club</th>\n",
       "      <th>Club Logo</th>\n",
       "      <th>...</th>\n",
       "      <th>Composure</th>\n",
       "      <th>Marking</th>\n",
       "      <th>StandingTackle</th>\n",
       "      <th>SlidingTackle</th>\n",
       "      <th>GKDiving</th>\n",
       "      <th>GKHandling</th>\n",
       "      <th>GKKicking</th>\n",
       "      <th>GKPositioning</th>\n",
       "      <th>GKReflexes</th>\n",
       "      <th>Release Clause</th>\n",
       "    </tr>\n",
       "  </thead>\n",
       "  <tbody>\n",
       "    <tr>\n",
       "      <th>0</th>\n",
       "      <td>158023</td>\n",
       "      <td>L. Messi</td>\n",
       "      <td>31.0</td>\n",
       "      <td>https://cdn.sofifa.org/players/4/19/158023.png</td>\n",
       "      <td>Argentina</td>\n",
       "      <td>https://cdn.sofifa.org/flags/52.png</td>\n",
       "      <td>94.0</td>\n",
       "      <td>94</td>\n",
       "      <td>FC Barcelona</td>\n",
       "      <td>https://cdn.sofifa.org/teams/2/light/241.png</td>\n",
       "      <td>...</td>\n",
       "      <td>96.0</td>\n",
       "      <td>33.0</td>\n",
       "      <td>28.0</td>\n",
       "      <td>26.0</td>\n",
       "      <td>6.0</td>\n",
       "      <td>11.0</td>\n",
       "      <td>15.0</td>\n",
       "      <td>14.0</td>\n",
       "      <td>8.0</td>\n",
       "      <td>226.5M</td>\n",
       "    </tr>\n",
       "  </tbody>\n",
       "</table>\n",
       "<p>1 rows × 88 columns</p>\n",
       "</div>"
      ],
      "text/plain": [
       "       ID      Name   Age                                           Photo  \\\n",
       "0  158023  L. Messi  31.0  https://cdn.sofifa.org/players/4/19/158023.png   \n",
       "\n",
       "  Nationality                                 Flag  Overall  Potential  \\\n",
       "0   Argentina  https://cdn.sofifa.org/flags/52.png     94.0         94   \n",
       "\n",
       "           Club                                     Club Logo  ... Composure  \\\n",
       "0  FC Barcelona  https://cdn.sofifa.org/teams/2/light/241.png  ...      96.0   \n",
       "\n",
       "  Marking  StandingTackle SlidingTackle  GKDiving  GKHandling  GKKicking  \\\n",
       "0    33.0            28.0          26.0       6.0        11.0       15.0   \n",
       "\n",
       "  GKPositioning GKReflexes Release Clause  \n",
       "0          14.0        8.0        226.5M  \n",
       "\n",
       "[1 rows x 88 columns]"
      ]
     },
     "execution_count": 6,
     "metadata": {},
     "output_type": "execute_result"
    }
   ],
   "source": [
    "df = pd.read_csv(r\"C:\\Users\\choco\\OneDrive\\Desktop\\python\\kl.csv\",encoding='latin-1',index_col=0)\n",
    "#the problem was encoding as it was not supporting utf-8 so we encoded latin-1\n",
    "#there was extra column coming for index so we removed that with index_col=0\n",
    "df.head(1)"
   ]
  },
  {
   "cell_type": "code",
   "execution_count": 7,
   "id": "b8e41f94-500c-4b7d-8218-101037e48c5c",
   "metadata": {},
   "outputs": [
    {
     "data": {
      "text/plain": [
       "Index(['ID', 'Name', 'Age', 'Photo', 'Nationality', 'Flag', 'Overall',\n",
       "       'Potential', 'Club', 'Club Logo', 'Value', 'Wage', 'Special',\n",
       "       'Preferred Foot', 'International Reputation', 'Weak Foot',\n",
       "       'Skill Moves', 'Work Rate', 'Body Type', 'Real Face', 'Position',\n",
       "       'Jersey Number', 'Joined', 'Loaned From', 'Contract Valid Until',\n",
       "       'Height', 'Weight', 'LS', 'ST', 'RS', 'LW', 'LF', 'CF', 'RF', 'RW',\n",
       "       'LAM', 'CAM', 'RAM', 'LM', 'LCM', 'CM', 'RCM', 'RM', 'LWB', 'LDM',\n",
       "       'CDM', 'RDM', 'RWB', 'LB', 'LCB', 'CB', 'RCB', 'RB', 'Crossing',\n",
       "       'Finishing', 'HeadingAccuracy', 'ShortPassing', 'Volleys', 'Dribbling',\n",
       "       'Curve', 'FKAccuracy', 'LongPassing', 'BallControl', 'Acceleration',\n",
       "       'SprintSpeed', 'Agility', 'Reactions', 'Balance', 'ShotPower',\n",
       "       'Jumping', 'Stamina', 'Strength', 'LongShots', 'Aggression',\n",
       "       'Interceptions', 'Positioning', 'Vision', 'Penalties', 'Composure',\n",
       "       'Marking', 'StandingTackle', 'SlidingTackle', 'GKDiving', 'GKHandling',\n",
       "       'GKKicking', 'GKPositioning', 'GKReflexes', 'Release Clause'],\n",
       "      dtype='object')"
      ]
     },
     "execution_count": 7,
     "metadata": {},
     "output_type": "execute_result"
    }
   ],
   "source": [
    "df.columns"
   ]
  },
  {
   "cell_type": "code",
   "execution_count": 8,
   "id": "41336048-3b49-4968-a636-570bf5041977",
   "metadata": {},
   "outputs": [],
   "source": [
    "#1. preferred foot distribution"
   ]
  },
  {
   "cell_type": "code",
   "execution_count": 37,
   "id": "87d9341f-7b6f-486a-9a73-70318023248c",
   "metadata": {},
   "outputs": [
    {
     "data": {
      "text/plain": [
       "Preferred Foot\n",
       "Right    13948\n",
       "Left      4211\n",
       "Name: count, dtype: int64"
      ]
     },
     "execution_count": 37,
     "metadata": {},
     "output_type": "execute_result"
    }
   ],
   "source": [
    "df['Preferred Foot'].value_counts()"
   ]
  },
  {
   "cell_type": "code",
   "execution_count": 38,
   "id": "e35db748-6714-4490-b31d-6576d0396934",
   "metadata": {},
   "outputs": [
    {
     "data": {
      "text/plain": [
       "Text(0.5, 1.0, 'Preferred Foot Distribution')"
      ]
     },
     "execution_count": 38,
     "metadata": {},
     "output_type": "execute_result"
    },
    {
     "data": {
      "image/png": "[encoded data removed]",
      "text/plain": [
       "<Figure size 640x480 with 1 Axes>"
      ]
     },
     "metadata": {},
     "output_type": "display_data"
    }
   ],
   "source": [
    "import seaborn as sns\n",
    "sns.countplot(data=df,x='Preferred Foot',hue='Preferred Foot')\n",
    "plt.xlabel('Preferred Foot')\n",
    "plt.ylabel('Distribution')\n",
    "plt.title('Preferred Foot Distribution')"
   ]
  },
  {
   "cell_type": "code",
   "execution_count": null,
   "id": "cef44b19-71b9-4458-bdca-55a8358b9e6b",
   "metadata": {},
   "outputs": [],
   "source": [
    "# 2.What is the distribution of weak foot ?"
   ]
  },
  {
   "cell_type": "code",
   "execution_count": 39,
   "id": "bada115c-630b-496e-bd7a-e4fc5659b29c",
   "metadata": {},
   "outputs": [
    {
     "data": {
      "text/plain": [
       "Weak Foot\n",
       "3.0    11349\n",
       "2.0     3761\n",
       "4.0     2662\n",
       "5.0      229\n",
       "1.0      158\n",
       "Name: count, dtype: int64"
      ]
     },
     "execution_count": 39,
     "metadata": {},
     "output_type": "execute_result"
    }
   ],
   "source": [
    "df['Weak Foot'].value_counts()"
   ]
  },
  {
   "cell_type": "code",
   "execution_count": 40,
   "id": "660d8fbe-98bc-4665-8704-0f2e75cfc361",
   "metadata": {},
   "outputs": [
    {
     "data": {
      "text/plain": [
       "Text(0.5, 1.0, 'Preferred Foot Distribution')"
      ]
     },
     "execution_count": 40,
     "metadata": {},
     "output_type": "execute_result"
    },
    {
     "data": {
      "image/png": "[encoded data removed]",
      "text/plain": [
       "<Figure size 640x480 with 1 Axes>"
      ]
     },
     "metadata": {},
     "output_type": "display_data"
    }
   ],
   "source": [
    "import seaborn as sns\n",
    "sns.countplot(data=df,x='Weak Foot',hue='Weak Foot')\n",
    "plt.xlabel('Weak Foot')\n",
    "plt.ylabel('Distribution')\n",
    "plt.title('Preferred Foot Distribution')"
   ]
  },
  {
   "cell_type": "code",
   "execution_count": null,
   "id": "dd372c6d-5c15-4886-a120-e77326b07c26",
   "metadata": {},
   "outputs": [],
   "source": [
    "# 3.  How can we visualize the age distribution of players?"
   ]
  },
  {
   "cell_type": "code",
   "execution_count": 41,
   "id": "734bd2df-77fe-4f6e-86a5-b6f07a1ddae6",
   "metadata": {},
   "outputs": [
    {
     "data": {
      "text/plain": [
       "Age\n",
       "21.0    1423\n",
       "26.0    1387\n",
       "24.0    1358\n",
       "22.0    1340\n",
       "23.0    1332\n",
       "25.0    1319\n",
       "20.0    1240\n",
       "27.0    1162\n",
       "28.0    1100\n",
       "19.0    1024\n",
       "29.0     959\n",
       "30.0     917\n",
       "18.0     732\n",
       "31.0     707\n",
       "32.0     574\n",
       "33.0     408\n",
       "34.0     404\n",
       "17.0     289\n",
       "35.0     196\n",
       "36.0     127\n",
       "37.0      82\n",
       "16.0      42\n",
       "38.0      37\n",
       "39.0      25\n",
       "40.0      13\n",
       "41.0       5\n",
       "44.0       2\n",
       "42.0       1\n",
       "45.0       1\n",
       "Name: count, dtype: int64"
      ]
     },
     "execution_count": 41,
     "metadata": {},
     "output_type": "execute_result"
    }
   ],
   "source": [
    "df['Age'].value_counts()"
   ]
  },
  {
   "cell_type": "code",
   "execution_count": 45,
   "id": "6029d16e-5ffb-43ad-88bf-f6240d67e10f",
   "metadata": {},
   "outputs": [
    {
     "data": {
      "text/plain": [
       "Age\n",
       "16.0      42\n",
       "17.0     289\n",
       "18.0     732\n",
       "19.0    1024\n",
       "20.0    1240\n",
       "21.0    1423\n",
       "22.0    1340\n",
       "23.0    1332\n",
       "24.0    1358\n",
       "25.0    1319\n",
       "26.0    1387\n",
       "27.0    1162\n",
       "28.0    1100\n",
       "29.0     959\n",
       "30.0     917\n",
       "31.0     707\n",
       "32.0     574\n",
       "33.0     408\n",
       "34.0     404\n",
       "35.0     196\n",
       "36.0     127\n",
       "37.0      82\n",
       "38.0      37\n",
       "39.0      25\n",
       "40.0      13\n",
       "41.0       5\n",
       "42.0       1\n",
       "44.0       2\n",
       "45.0       1\n",
       "Name: count, dtype: int64"
      ]
     },
     "execution_count": 45,
     "metadata": {},
     "output_type": "execute_result"
    }
   ],
   "source": [
    "x=df.Age.value_counts().sort_index()\n",
    "x"
   ]
  },
  {
   "cell_type": "code",
   "execution_count": 46,
   "id": "55a8234e-919c-435a-b7a6-ba1db401ec8d",
   "metadata": {},
   "outputs": [
    {
     "data": {
      "image/png": "[encoded data removed]",
      "text/plain": [
       "<Figure size 1500x500 with 1 Axes>"
      ]
     },
     "metadata": {},
     "output_type": "display_data"
    }
   ],
   "source": [
    "plt.figure(figsize=(15,5))\n",
    "plt.bar(x.index,x.values,color='g')\n",
    "plt.xticks(x.index)#index coming as x axis values\n",
    "plt.xlabel('Age')\n",
    "plt.ylabel('Age Distribution of Players')\n",
    "plt.show()\n",
    "#bar chart is great for categorical"
   ]
  },
  {
   "cell_type": "code",
   "execution_count": null,
   "id": "e9e31497-bce9-4b73-8d2c-45e2d4522d67",
   "metadata": {},
   "outputs": [],
   "source": [
    "#8.  What is the different skill moves of the players?"
   ]
  },
  {
   "cell_type": "code",
   "execution_count": 47,
   "id": "7615171f-8d42-41d8-b7b6-379f2e82cd61",
   "metadata": {},
   "outputs": [
    {
     "data": {
      "text/html": [
       "<div>\n",
       "<style scoped>\n",
       "    .dataframe tbody tr th:only-of-type {\n",
       "        vertical-align: middle;\n",
       "    }\n",
       "\n",
       "    .dataframe tbody tr th {\n",
       "        vertical-align: top;\n",
       "    }\n",
       "\n",
       "    .dataframe thead th {\n",
       "        text-align: right;\n",
       "    }\n",
       "</style>\n",
       "<table border=\"1\" class=\"dataframe\">\n",
       "  <thead>\n",
       "    <tr style=\"text-align: right;\">\n",
       "      <th></th>\n",
       "      <th>Name</th>\n",
       "      <th>Skill Moves</th>\n",
       "    </tr>\n",
       "  </thead>\n",
       "  <tbody>\n",
       "    <tr>\n",
       "      <th>0</th>\n",
       "      <td>L. Messi</td>\n",
       "      <td>4.0</td>\n",
       "    </tr>\n",
       "    <tr>\n",
       "      <th>1</th>\n",
       "      <td>Cristiano Ronaldo</td>\n",
       "      <td>5.0</td>\n",
       "    </tr>\n",
       "    <tr>\n",
       "      <th>2</th>\n",
       "      <td>Neymar Jr</td>\n",
       "      <td>5.0</td>\n",
       "    </tr>\n",
       "    <tr>\n",
       "      <th>3</th>\n",
       "      <td>De Gea</td>\n",
       "      <td>1.0</td>\n",
       "    </tr>\n",
       "    <tr>\n",
       "      <th>4</th>\n",
       "      <td>K. De Bruyne</td>\n",
       "      <td>4.0</td>\n",
       "    </tr>\n",
       "    <tr>\n",
       "      <th>...</th>\n",
       "      <td>...</td>\n",
       "      <td>...</td>\n",
       "    </tr>\n",
       "    <tr>\n",
       "      <th>18202</th>\n",
       "      <td>J. Lundstram</td>\n",
       "      <td>2.0</td>\n",
       "    </tr>\n",
       "    <tr>\n",
       "      <th>18203</th>\n",
       "      <td>N. Christoffersson</td>\n",
       "      <td>2.0</td>\n",
       "    </tr>\n",
       "    <tr>\n",
       "      <th>18204</th>\n",
       "      <td>B. Worman</td>\n",
       "      <td>2.0</td>\n",
       "    </tr>\n",
       "    <tr>\n",
       "      <th>18205</th>\n",
       "      <td>D. Walker-Rice</td>\n",
       "      <td>2.0</td>\n",
       "    </tr>\n",
       "    <tr>\n",
       "      <th>18206</th>\n",
       "      <td>G. Nugent</td>\n",
       "      <td>2.0</td>\n",
       "    </tr>\n",
       "  </tbody>\n",
       "</table>\n",
       "<p>18207 rows × 2 columns</p>\n",
       "</div>"
      ],
      "text/plain": [
       "                     Name  Skill Moves\n",
       "0                L. Messi          4.0\n",
       "1       Cristiano Ronaldo          5.0\n",
       "2               Neymar Jr          5.0\n",
       "3                  De Gea          1.0\n",
       "4            K. De Bruyne          4.0\n",
       "...                   ...          ...\n",
       "18202        J. Lundstram          2.0\n",
       "18203  N. Christoffersson          2.0\n",
       "18204           B. Worman          2.0\n",
       "18205      D. Walker-Rice          2.0\n",
       "18206           G. Nugent          2.0\n",
       "\n",
       "[18207 rows x 2 columns]"
      ]
     },
     "execution_count": 47,
     "metadata": {},
     "output_type": "execute_result"
    }
   ],
   "source": [
    "df['Skill Moves'].value_counts()\n",
    "df[['Name','Skill Moves']]"
   ]
  },
  {
   "cell_type": "code",
   "execution_count": 48,
   "id": "f5ed6c00-71bf-4b13-987c-d967b8f872ee",
   "metadata": {},
   "outputs": [],
   "source": [
    "# 9. How can we visualze skill moves of players segregated by preferred foot?"
   ]
  },
  {
   "cell_type": "code",
   "execution_count": 49,
   "id": "c5478603-8eef-4e3e-b802-e257199d3ddc",
   "metadata": {},
   "outputs": [
    {
     "data": {
      "text/plain": [
       "Text(0.5, 1.0, 'Skill moves of players by Preferred Foot Distribution')"
      ]
     },
     "execution_count": 49,
     "metadata": {},
     "output_type": "execute_result"
    },
    {
     "data": {
      "image/png": "[encoded data removed]",
      "text/plain": [
       "<Figure size 640x480 with 1 Axes>"
      ]
     },
     "metadata": {},
     "output_type": "display_data"
    }
   ],
   "source": [
    "\n",
    "sns.countplot(data=df,x='Preferred Foot',hue='Skill Moves')\n",
    "plt.xlabel('Preferred Foot')\n",
    "plt.ylabel('Skill Moves')\n",
    "plt.title('Skill moves of players by Preferred Foot Distribution')"
   ]
  },
  {
   "cell_type": "code",
   "execution_count": null,
   "id": "20c68c3d-5d8a-46c9-aabd-6383b6ac1850",
   "metadata": {},
   "outputs": [],
   "source": [
    "# 10. How can we visualize special score of the players?"
   ]
  },
  {
   "cell_type": "code",
   "execution_count": 70,
   "id": "17c1d2b5-4ff6-49d9-9b84-07e1d636b619",
   "metadata": {},
   "outputs": [
    {
     "data": {
      "text/plain": [
       "Special\n",
       "731     1\n",
       "738     1\n",
       "752     2\n",
       "755     1\n",
       "757     1\n",
       "       ..\n",
       "2278    1\n",
       "2279    2\n",
       "2280    1\n",
       "2281    1\n",
       "2346    1\n",
       "Name: count, Length: 1422, dtype: int64"
      ]
     },
     "execution_count": 70,
     "metadata": {},
     "output_type": "execute_result"
    }
   ],
   "source": [
    "xy=df['Special'].value_counts().sort_index()\n",
    "xy"
   ]
  },
  {
   "cell_type": "code",
   "execution_count": 75,
   "id": "675499e5-4a00-45ec-a2f6-2a0746bc212e",
   "metadata": {},
   "outputs": [
    {
     "data": {
      "text/plain": [
       "Text(0.5, 1.0, 'Distriution of Special Score of Players')"
      ]
     },
     "execution_count": 75,
     "metadata": {},
     "output_type": "execute_result"
    },
    {
     "data": {
      "image/png": "[encoded data removed]",
      "text/plain": [
       "<Figure size 640x480 with 1 Axes>"
      ]
     },
     "metadata": {},
     "output_type": "display_data"
    }
   ],
   "source": [
    "import seaborn as sns\n",
    "plt.hist(df['Age'],bins=10)\n",
    "plt.xlabel('Special Score')\n",
    "plt.title('Distriution of Special Score of Players')"
   ]
  },
  {
   "cell_type": "code",
   "execution_count": null,
   "id": "d44adc41-58c3-4aec-bbe6-b879010629f1",
   "metadata": {},
   "outputs": [],
   "source": [
    "#11. What is the number of players at different positions?"
   ]
  },
  {
   "cell_type": "code",
   "execution_count": 25,
   "id": "13ad146c-d027-4e22-a974-b5903da31743",
   "metadata": {},
   "outputs": [
    {
     "data": {
      "text/plain": [
       "Position\n",
       "ST     2152\n",
       "GK     2025\n",
       "CB     1778\n",
       "CM     1394\n",
       "LB     1322\n",
       "RB     1291\n",
       "RM     1124\n",
       "LM     1095\n",
       "CAM     958\n",
       "CDM     948\n",
       "RCB     662\n",
       "LCB     648\n",
       "LCM     395\n",
       "RCM     391\n",
       "LW      381\n",
       "RW      370\n",
       "RDM     248\n",
       "LDM     243\n",
       "LS      207\n",
       "RS      203\n",
       "RWB      87\n",
       "LWB      78\n",
       "CF       74\n",
       "LAM      21\n",
       "RAM      21\n",
       "RF       16\n",
       "LF       15\n",
       "Name: count, dtype: int64"
      ]
     },
     "execution_count": 25,
     "metadata": {},
     "output_type": "execute_result"
    }
   ],
   "source": [
    "player_position=df['Position'].value_counts().sort_values(ascending=False)\n",
    "player_position"
   ]
  },
  {
   "cell_type": "code",
   "execution_count": 77,
   "id": "2a40a75c-bdcf-4f33-86a6-88ac0ba4e281",
   "metadata": {},
   "outputs": [
    {
     "data": {
      "image/png": "[encoded data removed]",
      "text/plain": [
       "<Figure size 2000x500 with 1 Axes>"
      ]
     },
     "metadata": {},
     "output_type": "display_data"
    }
   ],
   "source": [
    "plt.figure(figsize=(20,5))\n",
    "player_position.plot(kind='bar')\n",
    "plt.xlabel('Position')\n",
    "plt.ylabel('Distribution')\n",
    "plt.title('Distribution of position')\n",
    "plt.show()"
   ]
  },
  {
   "cell_type": "code",
   "execution_count": null,
   "id": "e4f821d0-e383-4c7c-a5b6-e11f0284fb10",
   "metadata": {},
   "outputs": [],
   "source": [
    "#13. Which countries are there in the dataset? (no need of graph)"
   ]
  },
  {
   "cell_type": "code",
   "execution_count": 78,
   "id": "ba6798ed-d7fd-40f0-83e0-2236c23821d3",
   "metadata": {},
   "outputs": [
    {
     "data": {
      "text/plain": [
       "Nationality\n",
       "England        1662\n",
       "Germany        1198\n",
       "Spain          1072\n",
       "Argentina       937\n",
       "France          914\n",
       "               ... \n",
       "Malta             1\n",
       "Belize            1\n",
       "South Sudan       1\n",
       "Indonesia         1\n",
       "Botswana          1\n",
       "Name: count, Length: 164, dtype: int64"
      ]
     },
     "execution_count": 78,
     "metadata": {},
     "output_type": "execute_result"
    }
   ],
   "source": [
    "df['Nationality'].value_counts()"
   ]
  },
  {
   "cell_type": "code",
   "execution_count": null,
   "id": "816c07b0-2d8e-4017-9873-f05a210642ca",
   "metadata": {},
   "outputs": [],
   "source": [
    "#14. Which are top 10 countries with most number of players?"
   ]
  },
  {
   "cell_type": "code",
   "execution_count": 79,
   "id": "239b26b0-77ae-4367-b9ed-eb01c04abaf1",
   "metadata": {},
   "outputs": [
    {
     "data": {
      "text/plain": [
       "Nationality\n",
       "England        1662\n",
       "Germany        1198\n",
       "Spain          1072\n",
       "Argentina       937\n",
       "France          914\n",
       "Brazil          827\n",
       "Italy           702\n",
       "Colombia        618\n",
       "Japan           478\n",
       "Netherlands     453\n",
       "Name: count, dtype: int64"
      ]
     },
     "execution_count": 79,
     "metadata": {},
     "output_type": "execute_result"
    }
   ],
   "source": [
    "most_players=df['Nationality'].value_counts().sort_values(ascending=False).head(10)\n",
    "most_players"
   ]
  },
  {
   "cell_type": "code",
   "execution_count": null,
   "id": "74157b00-be1d-42e1-b7cd-9df1387f079d",
   "metadata": {},
   "outputs": [],
   "source": [
    "#15. What is the age distribution from top countries?(box plot)"
   ]
  },
  {
   "cell_type": "code",
   "execution_count": 80,
   "id": "15de7bfb-471c-4586-b73b-db27b03a2fb1",
   "metadata": {},
   "outputs": [
    {
     "data": {
      "image/png": "[encoded data removed]",
      "text/plain": [
       "<Figure size 640x480 with 1 Axes>"
      ]
     },
     "metadata": {},
     "output_type": "display_data"
    }
   ],
   "source": [
    "sns.boxplot(x='Nationality',y='Age',data=df[df['Nationality'].isin(most_players.index)])\n",
    "plt.xticks(rotation=90)\n",
    "plt.xlabel('Nationality')\n",
    "plt.ylabel('Age')\n",
    "plt.title('Age distribution of top 10 countries')\n",
    "plt.show()"
   ]
  },
  {
   "cell_type": "code",
   "execution_count": null,
   "id": "fa400e31-9ad3-4545-8ac0-e24a3c67fbfa",
   "metadata": {},
   "outputs": [],
   "source": [
    "#16. What is the distribution of Overall Score of Players from top countries?"
   ]
  },
  {
   "cell_type": "code",
   "execution_count": 81,
   "id": "116ffb13-3d1a-4e4d-b32e-d0b257b0134b",
   "metadata": {},
   "outputs": [
    {
     "data": {
      "text/plain": [
       "Overall\n",
       "66.0    1163\n",
       "67.0    1118\n",
       "64.0    1091\n",
       "65.0    1045\n",
       "68.0    1035\n",
       "63.0    1002\n",
       "69.0     973\n",
       "70.0     889\n",
       "62.0     878\n",
       "71.0     783\n",
       "72.0     753\n",
       "61.0     711\n",
       "60.0     649\n",
       "73.0     608\n",
       "74.0     537\n",
       "59.0     525\n",
       "75.0     497\n",
       "58.0     444\n",
       "57.0     402\n",
       "76.0     373\n",
       "56.0     343\n",
       "77.0     304\n",
       "55.0     265\n",
       "54.0     250\n",
       "53.0     199\n",
       "79.0     171\n",
       "78.0     168\n",
       "52.0     159\n",
       "80.0     143\n",
       "51.0     125\n",
       "50.0     103\n",
       "82.0      94\n",
       "81.0      93\n",
       "83.0      70\n",
       "84.0      45\n",
       "49.0      36\n",
       "85.0      33\n",
       "48.0      32\n",
       "86.0      22\n",
       "47.0      20\n",
       "88.0      17\n",
       "87.0      13\n",
       "89.0      10\n",
       "91.0       6\n",
       "90.0       5\n",
       "94.0       2\n",
       "92.0       1\n",
       "46.0       1\n",
       "Name: count, dtype: int64"
      ]
     },
     "execution_count": 81,
     "metadata": {},
     "output_type": "execute_result"
    }
   ],
   "source": [
    "df['Overall'].value_counts()"
   ]
  },
  {
   "cell_type": "code",
   "execution_count": 82,
   "id": "0e24125e-d309-4075-99e3-8d8c2d623bd9",
   "metadata": {},
   "outputs": [
    {
     "data": {
      "image/png": "[encoded data removed]",
      "text/plain": [
       "<Figure size 640x480 with 1 Axes>"
      ]
     },
     "metadata": {},
     "output_type": "display_data"
    }
   ],
   "source": [
    "sns.countplot(x='Nationality',hue='Overall',data=df[df['Nationality'].isin(most_players.index)])\n",
    "plt.xticks(rotation=90)\n",
    "plt.xlabel('Nationality')\n",
    "plt.ylabel('Overall')\n",
    "plt.title('Overall Score of 10 countries')\n",
    "plt.show()"
   ]
  },
  {
   "cell_type": "code",
   "execution_count": null,
   "id": "0cf232e0-7c3f-4a25-bfba-269921c3da28",
   "metadata": {},
   "outputs": [],
   "source": [
    "#17. What is the number of players at different positions?"
   ]
  },
  {
   "cell_type": "code",
   "execution_count": null,
   "id": "0b87267c-6867-4ea5-8d50-67bf1e657b4b",
   "metadata": {},
   "outputs": [],
   "source": [
    "#same question repeated"
   ]
  },
  {
   "cell_type": "code",
   "execution_count": null,
   "id": "4d33b4a7-faff-45b7-9eed-bb1f960f1052",
   "metadata": {},
   "outputs": [],
   "source": [
    "#18. How many clubs are there? (no need of graph)"
   ]
  },
  {
   "cell_type": "code",
   "execution_count": 83,
   "id": "7c3dba5a-075a-4d2b-af2a-92b1ddb2d47f",
   "metadata": {},
   "outputs": [
    {
     "data": {
      "text/plain": [
       "np.int64(651)"
      ]
     },
     "execution_count": 83,
     "metadata": {},
     "output_type": "execute_result"
    }
   ],
   "source": [
    "df['Club'].value_counts().count()"
   ]
  },
  {
   "cell_type": "code",
   "execution_count": null,
   "id": "ebc3ddfb-9b27-44fd-bcd4-a0a72cbe5c7f",
   "metadata": {},
   "outputs": [],
   "source": [
    "#19.What are the club names? (no need of graph)"
   ]
  },
  {
   "cell_type": "code",
   "execution_count": 84,
   "id": "a6a6f9c2-6c92-4e67-9e48-1a3bcecb9b44",
   "metadata": {},
   "outputs": [],
   "source": [
    "x=df['Club'].value_counts()"
   ]
  },
  {
   "cell_type": "code",
   "execution_count": 85,
   "id": "b79acde6-3f72-4c30-944f-d437d89667d9",
   "metadata": {},
   "outputs": [
    {
     "data": {
      "text/plain": [
       "Index(['RC Celta', 'Everton', 'Valencia CF', 'Borussia Dortmund',\n",
       "       'TSG 1899 Hoffenheim', 'Wolverhampton Wanderers', 'AS Monaco',\n",
       "       'Real Madrid', 'Atlético Madrid', 'Manchester United',\n",
       "       ...\n",
       "       'Chapecoense', 'Grêmio', 'Atlético Paranaense', 'Paraná',\n",
       "       'Sport Club do Recife', 'Botafogo', 'Vitória', 'Sligo Rovers',\n",
       "       'Limerick FC', 'Derry City'],\n",
       "      dtype='object', name='Club', length=651)"
      ]
     },
     "execution_count": 85,
     "metadata": {},
     "output_type": "execute_result"
    }
   ],
   "source": [
    "x.index"
   ]
  },
  {
   "cell_type": "code",
   "execution_count": 86,
   "id": "ebc7753f-7e1b-4219-8941-7739effc1b4b",
   "metadata": {},
   "outputs": [],
   "source": [
    "#20. How do we calculate number of countries? (no need of graph)\n",
    "#Another question repitition"
   ]
  },
  {
   "cell_type": "code",
   "execution_count": 94,
   "id": "fe0b42e8-b47b-45b3-8d0c-fbb3a589849c",
   "metadata": {},
   "outputs": [
    {
     "data": {
      "text/plain": [
       "np.int64(164)"
      ]
     },
     "execution_count": 94,
     "metadata": {},
     "output_type": "execute_result"
    }
   ],
   "source": [
    "df['Nationality'].value_counts().count()"
   ]
  },
  {
   "cell_type": "code",
   "execution_count": 88,
   "id": "679e5c50-2e5f-4009-bb92-ed902a8825e6",
   "metadata": {},
   "outputs": [],
   "source": [
    "#21. Which countries are there in the dataset? (no need of graph)\n",
    "#Another repeat question"
   ]
  },
  {
   "cell_type": "code",
   "execution_count": 89,
   "id": "e5051c87-f671-4f27-8fcb-e9043d7f0bb1",
   "metadata": {},
   "outputs": [],
   "source": [
    "#22. Who are the 10 best players?"
   ]
  },
  {
   "cell_type": "code",
   "execution_count": 90,
   "id": "c419012f-bf13-4817-b557-39c2a01cd73d",
   "metadata": {},
   "outputs": [
    {
     "data": {
      "text/plain": [
       "Name\n",
       "L. Messi             94.0\n",
       "Cristiano Ronaldo    94.0\n",
       "Neymar Jr            92.0\n",
       "L. Modri?            91.0\n",
       "Sergio Ramos         91.0\n",
       "L. Suárez            91.0\n",
       "K. De Bruyne         91.0\n",
       "De Gea               91.0\n",
       "E. Hazard            91.0\n",
       "J. Oblak             90.0\n",
       "Name: Overall, dtype: float64"
      ]
     },
     "execution_count": 90,
     "metadata": {},
     "output_type": "execute_result"
    }
   ],
   "source": [
    "df['Overall'].sort_values(ascending=False).head(10)\n",
    "top_players=df.groupby('Name')['Overall'].max().sort_values(ascending=False).head(10)\n",
    "top_players\n",
    "#use .max() and not value_counts()"
   ]
  },
  {
   "cell_type": "code",
   "execution_count": null,
   "id": "816fd61a-c26e-4cb6-aa17-89a712b96b8e",
   "metadata": {},
   "outputs": [],
   "source": [
    "#23. Who are the top 10 eldest players?"
   ]
  },
  {
   "cell_type": "code",
   "execution_count": 23,
   "id": "78fde813-1d1f-4e54-9dac-5260a7f4d459",
   "metadata": {},
   "outputs": [
    {
     "data": {
      "text/plain": [
       "Name\n",
       "O. Pérez         45.0\n",
       "T. Warner        44.0\n",
       "K. Pilkington    44.0\n",
       "S. Narazaki      42.0\n",
       "B. Nivet         41.0\n",
       "J. Villar        41.0\n",
       "H. Sulaimani     41.0\n",
       "C. Muñoz         41.0\n",
       "M. Tyler         41.0\n",
       "S. Phillips      40.0\n",
       "Name: Age, dtype: float64"
      ]
     },
     "execution_count": 23,
     "metadata": {},
     "output_type": "execute_result"
    }
   ],
   "source": [
    "eldest=df.groupby('Name')['Age'].max().sort_values(ascending=False).head(10)\n",
    "eldest"
   ]
  },
  {
   "cell_type": "code",
   "execution_count": null,
   "id": "0fb5fb4b-2885-47a4-9c7e-1422f27d1e09",
   "metadata": {},
   "outputs": [],
   "source": [
    "#24. Who are the top 10 youngest players?"
   ]
  },
  {
   "cell_type": "code",
   "execution_count": 22,
   "id": "3ed43e03-f827-452e-8d1e-2f8ae6df154e",
   "metadata": {},
   "outputs": [
    {
     "data": {
      "text/plain": [
       "Name\n",
       "T. Gundelund       16.0\n",
       "Pelayo Morilla     16.0\n",
       "K. Broda           16.0\n",
       "G. Nugent          16.0\n",
       "A. Mahlonoko       16.0\n",
       "M. Tilio           16.0\n",
       "C. Bassett         16.0\n",
       "A. Taoui           16.0\n",
       "P. Samiec-Talar    16.0\n",
       "J. Rowland         16.0\n",
       "Name: Age, dtype: float64"
      ]
     },
     "execution_count": 22,
     "metadata": {},
     "output_type": "execute_result"
    }
   ],
   "source": [
    "youngest=df.groupby('Name')['Age'].max().sort_values(ascending=True).head(10)\n",
    "youngest"
   ]
  },
  {
   "cell_type": "code",
   "execution_count": null,
   "id": "5b27de74-666a-47b1-9da5-2494cde7024f",
   "metadata": {},
   "outputs": [],
   "source": [
    "#25. Who are the best free-kick takers?"
   ]
  },
  {
   "cell_type": "code",
   "execution_count": 95,
   "id": "b1621516-19c5-401d-a6a8-f5fee03579b5",
   "metadata": {},
   "outputs": [
    {
     "data": {
      "text/plain": [
       "Name\n",
       "L. Messi            94.0\n",
       "S. Giovinco         93.0\n",
       "M. Pjani?           92.0\n",
       "E. Bardhi           91.0\n",
       "Parejo              90.0\n",
       "H. Çalhano?lu       90.0\n",
       "M. Depay            88.0\n",
       "S. Nakamura         88.0\n",
       "P. Dybala           88.0\n",
       "Anderson Talisca    87.0\n",
       "Name: FKAccuracy, dtype: float64"
      ]
     },
     "execution_count": 95,
     "metadata": {},
     "output_type": "execute_result"
    }
   ],
   "source": [
    "best_fk=df.groupby('Name')['FKAccuracy'].max().sort_values(ascending=False).head(10)\n",
    "best_fk"
   ]
  },
  {
   "cell_type": "code",
   "execution_count": 96,
   "id": "5ec4a798-e334-4489-8605-e624ae76f456",
   "metadata": {},
   "outputs": [],
   "source": [
    "#26. Who are the best penalty kick takers?"
   ]
  },
  {
   "cell_type": "code",
   "execution_count": 132,
   "id": "0241a2cf-4e73-471d-ab86-5cd7c58dab76",
   "metadata": {},
   "outputs": [
    {
     "data": {
      "text/plain": [
       "Name\n",
       "M. Balotelli      92.0\n",
       "Fabinho           91.0\n",
       "R. Jiménez        90.0\n",
       "H. Kane           90.0\n",
       "M. Kruse          90.0\n",
       "R. Boudebouz      90.0\n",
       "L. Baines         90.0\n",
       "D. Perotti        90.0\n",
       "Edinho            89.0\n",
       "Z. Ibrahimovi?    89.0\n",
       "Name: Penalties, dtype: float64"
      ]
     },
     "execution_count": 132,
     "metadata": {},
     "output_type": "execute_result"
    }
   ],
   "source": [
    "best_penalty=df.groupby('Name')['Penalties'].max().sort_values(ascending=False).head(10)\n",
    "best_penalty"
   ]
  },
  {
   "cell_type": "code",
   "execution_count": 146,
   "id": "f4949724-045e-4b4d-9d9a-f96efac24ee6",
   "metadata": {},
   "outputs": [
    {
     "data": {
      "image/png": "[encoded data removed]",
      "text/plain": [
       "<Figure size 2000x500 with 1 Axes>"
      ]
     },
     "metadata": {},
     "output_type": "display_data"
    }
   ],
   "source": [
    "plt.figure(figsize=(20,5))\n",
    "best_penalty.plot(kind='bar')\n",
    "plt.xticks(range(0,11,1))\n",
    "plt.yticks(range(0,100,5))\n",
    "plt.xlabel('Name')\n",
    "plt.ylabel('Penalty Scorers')\n",
    "plt.title('Best Penalty Scorers')\n",
    "plt.show()"
   ]
  },
  {
   "cell_type": "code",
   "execution_count": 99,
   "id": "a7c5d53e-2330-4098-bb52-4098a40ace3d",
   "metadata": {},
   "outputs": [],
   "source": [
    "#27. Who are the best players with the ball control?"
   ]
  },
  {
   "cell_type": "code",
   "execution_count": 100,
   "id": "308cdcce-f0cf-48f0-b1a7-80a4b8e77a9b",
   "metadata": {},
   "outputs": [
    {
     "data": {
      "text/plain": [
       "Name\n",
       "L. Messi             96.0\n",
       "Isco                 95.0\n",
       "Neymar Jr            95.0\n",
       "Cristiano Ronaldo    94.0\n",
       "E. Hazard            94.0\n",
       "David Silva          94.0\n",
       "L. Modri?            93.0\n",
       "L. Insigne           93.0\n",
       "Marcelo              92.0\n",
       "P. Dybala            92.0\n",
       "Name: BallControl, dtype: float64"
      ]
     },
     "execution_count": 100,
     "metadata": {},
     "output_type": "execute_result"
    }
   ],
   "source": [
    "best_ball_control=df.groupby('Name')['BallControl'].max().sort_values(ascending=False).head(10)\n",
    "best_ball_control"
   ]
  },
  {
   "cell_type": "code",
   "execution_count": 101,
   "id": "3f71783b-8216-4bd6-9254-ce6508f676b6",
   "metadata": {},
   "outputs": [
    {
     "data": {
      "image/png": "[encoded data removed]",
      "text/plain": [
       "<Figure size 2000x500 with 1 Axes>"
      ]
     },
     "metadata": {},
     "output_type": "display_data"
    }
   ],
   "source": [
    "plt.figure(figsize=(20,5))\n",
    "best_ball_control.plot(kind='bar')\n",
    "plt.xlabel('Name')\n",
    "plt.ylabel('Ball Control Level')\n",
    "plt.title('Best Ball Control')\n",
    "plt.show()"
   ]
  },
  {
   "cell_type": "code",
   "execution_count": 102,
   "id": "58c8eaab-0e7d-4486-adab-149e74bec6cd",
   "metadata": {},
   "outputs": [],
   "source": [
    "#28. Who are the fastest players on the planet?"
   ]
  },
  {
   "cell_type": "code",
   "execution_count": 103,
   "id": "60d41ec5-2680-442d-a318-d39cf99f924a",
   "metadata": {},
   "outputs": [
    {
     "data": {
      "text/plain": [
       "Index(['ID', 'Name', 'Age', 'Photo', 'Nationality', 'Flag', 'Overall',\n",
       "       'Potential', 'Club', 'Club Logo', 'Value', 'Wage', 'Special',\n",
       "       'Preferred Foot', 'International Reputation', 'Weak Foot',\n",
       "       'Skill Moves', 'Work Rate', 'Body Type', 'Real Face', 'Position',\n",
       "       'Jersey Number', 'Joined', 'Loaned From', 'Contract Valid Until',\n",
       "       'Height', 'Weight', 'LS', 'ST', 'RS', 'LW', 'LF', 'CF', 'RF', 'RW',\n",
       "       'LAM', 'CAM', 'RAM', 'LM', 'LCM', 'CM', 'RCM', 'RM', 'LWB', 'LDM',\n",
       "       'CDM', 'RDM', 'RWB', 'LB', 'LCB', 'CB', 'RCB', 'RB', 'Crossing',\n",
       "       'Finishing', 'HeadingAccuracy', 'ShortPassing', 'Volleys', 'Dribbling',\n",
       "       'Curve', 'FKAccuracy', 'LongPassing', 'BallControl', 'Acceleration',\n",
       "       'SprintSpeed', 'Agility', 'Reactions', 'Balance', 'ShotPower',\n",
       "       'Jumping', 'Stamina', 'Strength', 'LongShots', 'Aggression',\n",
       "       'Interceptions', 'Positioning', 'Vision', 'Penalties', 'Composure',\n",
       "       'Marking', 'StandingTackle', 'SlidingTackle', 'GKDiving', 'GKHandling',\n",
       "       'GKKicking', 'GKPositioning', 'GKReflexes', 'Release Clause'],\n",
       "      dtype='object')"
      ]
     },
     "execution_count": 103,
     "metadata": {},
     "output_type": "execute_result"
    }
   ],
   "source": [
    "df.columns"
   ]
  },
  {
   "cell_type": "code",
   "execution_count": 104,
   "id": "6ed5f23f-3348-461e-997a-d59bc8fa6131",
   "metadata": {},
   "outputs": [
    {
     "data": {
      "text/plain": [
       "Name\n",
       "Adama            96.0\n",
       "L. Sané          96.0\n",
       "K. Mbappé        96.0\n",
       "I. Bebou         95.0\n",
       "P. Aubameyang    95.0\n",
       "G. Bale          95.0\n",
       "Maicon           95.0\n",
       "J. Damm          95.0\n",
       "R. Fredericks    94.0\n",
       "T. Barkhuizen    94.0\n",
       "Name: SprintSpeed, dtype: float64"
      ]
     },
     "execution_count": 104,
     "metadata": {},
     "output_type": "execute_result"
    }
   ],
   "source": [
    "fastest=df.groupby('Name')['SprintSpeed'].max().sort_values(ascending=False).head(10)\n",
    "fastest"
   ]
  },
  {
   "cell_type": "code",
   "execution_count": 127,
   "id": "97b015ef-b52f-4ff6-accd-e877cf11db4c",
   "metadata": {},
   "outputs": [
    {
     "data": {
      "image/png": "[encoded data removed]",
      "text/plain": [
       "<Figure size 2000x500 with 1 Axes>"
      ]
     },
     "metadata": {},
     "output_type": "display_data"
    }
   ],
   "source": [
    "plt.figure(figsize=(20,5))\n",
    "fastest.plot(kind='line')\n",
    "plt.xlabel('Name')\n",
    "plt.ylabel('Sprint Speed')\n",
    "plt.title('Fast')\n",
    "plt.show()"
   ]
  },
  {
   "cell_type": "code",
   "execution_count": 106,
   "id": "a26453e7-c616-4b5f-8ea6-55506628fa6e",
   "metadata": {},
   "outputs": [],
   "source": [
    "#29. Who is the best dribbler?\n",
    "#why can i not sort float values"
   ]
  },
  {
   "cell_type": "code",
   "execution_count": 107,
   "id": "79c63390-ac3a-4661-95ca-1237cf58e1dd",
   "metadata": {},
   "outputs": [
    {
     "data": {
      "text/plain": [
       "Index(['ID', 'Name', 'Age', 'Photo', 'Nationality', 'Flag', 'Overall',\n",
       "       'Potential', 'Club', 'Club Logo', 'Value', 'Wage', 'Special',\n",
       "       'Preferred Foot', 'International Reputation', 'Weak Foot',\n",
       "       'Skill Moves', 'Work Rate', 'Body Type', 'Real Face', 'Position',\n",
       "       'Jersey Number', 'Joined', 'Loaned From', 'Contract Valid Until',\n",
       "       'Height', 'Weight', 'LS', 'ST', 'RS', 'LW', 'LF', 'CF', 'RF', 'RW',\n",
       "       'LAM', 'CAM', 'RAM', 'LM', 'LCM', 'CM', 'RCM', 'RM', 'LWB', 'LDM',\n",
       "       'CDM', 'RDM', 'RWB', 'LB', 'LCB', 'CB', 'RCB', 'RB', 'Crossing',\n",
       "       'Finishing', 'HeadingAccuracy', 'ShortPassing', 'Volleys', 'Dribbling',\n",
       "       'Curve', 'FKAccuracy', 'LongPassing', 'BallControl', 'Acceleration',\n",
       "       'SprintSpeed', 'Agility', 'Reactions', 'Balance', 'ShotPower',\n",
       "       'Jumping', 'Stamina', 'Strength', 'LongShots', 'Aggression',\n",
       "       'Interceptions', 'Positioning', 'Vision', 'Penalties', 'Composure',\n",
       "       'Marking', 'StandingTackle', 'SlidingTackle', 'GKDiving', 'GKHandling',\n",
       "       'GKKicking', 'GKPositioning', 'GKReflexes', 'Release Clause'],\n",
       "      dtype='object')"
      ]
     },
     "execution_count": 107,
     "metadata": {},
     "output_type": "execute_result"
    }
   ],
   "source": [
    "df.columns"
   ]
  },
  {
   "cell_type": "code",
   "execution_count": 124,
   "id": "b4197e62-8f4e-49d8-9dd3-dc39f2bef31c",
   "metadata": {},
   "outputs": [
    {
     "data": {
      "text/plain": [
       "Name\n",
       "L. Messi     97.0\n",
       "Neymar Jr    96.0\n",
       "E. Hazard    95.0\n",
       "Name: Dribbling, dtype: float64"
      ]
     },
     "execution_count": 124,
     "metadata": {},
     "output_type": "execute_result"
    }
   ],
   "source": [
    "best_dribbler=df.groupby('Name')['Dribbling'].max().sort_values(ascending=False).head(3)\n",
    "best_dribbler"
   ]
  },
  {
   "cell_type": "code",
   "execution_count": 109,
   "id": "8199f879-db63-42bb-81cb-d7bdc515f5fc",
   "metadata": {},
   "outputs": [],
   "source": [
    "#30. Who is the best finisher?"
   ]
  },
  {
   "cell_type": "code",
   "execution_count": 126,
   "id": "c68ee138-8c60-42fa-871a-fcf15a0bba60",
   "metadata": {},
   "outputs": [
    {
     "data": {
      "text/plain": [
       "Name\n",
       "L. Messi             95.0\n",
       "Cristiano Ronaldo    94.0\n",
       "H. Kane              94.0\n",
       "Name: Finishing, dtype: float64"
      ]
     },
     "execution_count": 126,
     "metadata": {},
     "output_type": "execute_result"
    }
   ],
   "source": [
    "best_finisher=df.groupby('Name')['Finishing'].max().sort_values(ascending=False).head(3)\n",
    "best_finisher"
   ]
  },
  {
   "cell_type": "code",
   "execution_count": null,
   "id": "33e04ced-88e9-41ea-9e34-22ffe7fb9e27",
   "metadata": {},
   "outputs": [],
   "source": [
    "#31. Seggregate Indian players"
   ]
  },
  {
   "cell_type": "code",
   "execution_count": null,
   "id": "62479dd3-1860-4e71-a9d9-6944d952afb9",
   "metadata": {},
   "outputs": [],
   "source": [
    "df.columns"
   ]
  },
  {
   "cell_type": "code",
   "execution_count": 36,
   "id": "56b3c5d2-fa3f-4343-a65c-ca9eadde271e",
   "metadata": {},
   "outputs": [
    {
     "data": {
      "text/html": [
       "<div>\n",
       "<style scoped>\n",
       "    .dataframe tbody tr th:only-of-type {\n",
       "        vertical-align: middle;\n",
       "    }\n",
       "\n",
       "    .dataframe tbody tr th {\n",
       "        vertical-align: top;\n",
       "    }\n",
       "\n",
       "    .dataframe thead th {\n",
       "        text-align: right;\n",
       "    }\n",
       "</style>\n",
       "<table border=\"1\" class=\"dataframe\">\n",
       "  <thead>\n",
       "    <tr style=\"text-align: right;\">\n",
       "      <th></th>\n",
       "      <th>index</th>\n",
       "      <th>Name</th>\n",
       "      <th>Nationality</th>\n",
       "    </tr>\n",
       "  </thead>\n",
       "  <tbody>\n",
       "    <tr>\n",
       "      <th>0</th>\n",
       "      <td>8605</td>\n",
       "      <td>S. Chhetri</td>\n",
       "      <td>India</td>\n",
       "    </tr>\n",
       "    <tr>\n",
       "      <th>1</th>\n",
       "      <td>10011</td>\n",
       "      <td>S. Jhingan</td>\n",
       "      <td>India</td>\n",
       "    </tr>\n",
       "    <tr>\n",
       "      <th>2</th>\n",
       "      <td>12598</td>\n",
       "      <td>J. Lalpekhlua</td>\n",
       "      <td>India</td>\n",
       "    </tr>\n",
       "    <tr>\n",
       "      <th>3</th>\n",
       "      <td>12811</td>\n",
       "      <td>G. Singh Sandhu</td>\n",
       "      <td>India</td>\n",
       "    </tr>\n",
       "    <tr>\n",
       "      <th>4</th>\n",
       "      <td>13508</td>\n",
       "      <td>A. Edathodika</td>\n",
       "      <td>India</td>\n",
       "    </tr>\n",
       "    <tr>\n",
       "      <th>5</th>\n",
       "      <td>14054</td>\n",
       "      <td>P. Halder</td>\n",
       "      <td>India</td>\n",
       "    </tr>\n",
       "    <tr>\n",
       "      <th>6</th>\n",
       "      <td>14199</td>\n",
       "      <td>P. Kotal</td>\n",
       "      <td>India</td>\n",
       "    </tr>\n",
       "    <tr>\n",
       "      <th>7</th>\n",
       "      <td>14218</td>\n",
       "      <td>L. Ralte</td>\n",
       "      <td>India</td>\n",
       "    </tr>\n",
       "    <tr>\n",
       "      <th>8</th>\n",
       "      <td>14705</td>\n",
       "      <td>N. Das</td>\n",
       "      <td>India</td>\n",
       "    </tr>\n",
       "    <tr>\n",
       "      <th>9</th>\n",
       "      <td>14786</td>\n",
       "      <td>U. Singh</td>\n",
       "      <td>India</td>\n",
       "    </tr>\n",
       "    <tr>\n",
       "      <th>10</th>\n",
       "      <td>14915</td>\n",
       "      <td>H. Narzary</td>\n",
       "      <td>India</td>\n",
       "    </tr>\n",
       "    <tr>\n",
       "      <th>11</th>\n",
       "      <td>15356</td>\n",
       "      <td>R. Singh</td>\n",
       "      <td>India</td>\n",
       "    </tr>\n",
       "    <tr>\n",
       "      <th>12</th>\n",
       "      <td>15643</td>\n",
       "      <td>S. Singh</td>\n",
       "      <td>India</td>\n",
       "    </tr>\n",
       "    <tr>\n",
       "      <th>13</th>\n",
       "      <td>15652</td>\n",
       "      <td>A. Thapa</td>\n",
       "      <td>India</td>\n",
       "    </tr>\n",
       "    <tr>\n",
       "      <th>14</th>\n",
       "      <td>15855</td>\n",
       "      <td>M. Rafique</td>\n",
       "      <td>India</td>\n",
       "    </tr>\n",
       "    <tr>\n",
       "      <th>15</th>\n",
       "      <td>15864</td>\n",
       "      <td>A. Singh</td>\n",
       "      <td>India</td>\n",
       "    </tr>\n",
       "    <tr>\n",
       "      <th>16</th>\n",
       "      <td>15884</td>\n",
       "      <td>B. Singh</td>\n",
       "      <td>India</td>\n",
       "    </tr>\n",
       "    <tr>\n",
       "      <th>17</th>\n",
       "      <td>16135</td>\n",
       "      <td>S. Bose</td>\n",
       "      <td>India</td>\n",
       "    </tr>\n",
       "    <tr>\n",
       "      <th>18</th>\n",
       "      <td>16265</td>\n",
       "      <td>R. Borges</td>\n",
       "      <td>India</td>\n",
       "    </tr>\n",
       "    <tr>\n",
       "      <th>19</th>\n",
       "      <td>16450</td>\n",
       "      <td>S. Paul</td>\n",
       "      <td>India</td>\n",
       "    </tr>\n",
       "    <tr>\n",
       "      <th>20</th>\n",
       "      <td>16499</td>\n",
       "      <td>A. Mondal</td>\n",
       "      <td>India</td>\n",
       "    </tr>\n",
       "    <tr>\n",
       "      <th>21</th>\n",
       "      <td>16539</td>\n",
       "      <td>L. Lalruatthara</td>\n",
       "      <td>India</td>\n",
       "    </tr>\n",
       "    <tr>\n",
       "      <th>22</th>\n",
       "      <td>16793</td>\n",
       "      <td>E. Lyngdoh</td>\n",
       "      <td>India</td>\n",
       "    </tr>\n",
       "    <tr>\n",
       "      <th>23</th>\n",
       "      <td>16903</td>\n",
       "      <td>J. Lalrinzuala</td>\n",
       "      <td>India</td>\n",
       "    </tr>\n",
       "    <tr>\n",
       "      <th>24</th>\n",
       "      <td>16976</td>\n",
       "      <td>A. Kuruniyan</td>\n",
       "      <td>India</td>\n",
       "    </tr>\n",
       "    <tr>\n",
       "      <th>25</th>\n",
       "      <td>17129</td>\n",
       "      <td>J. Singh</td>\n",
       "      <td>India</td>\n",
       "    </tr>\n",
       "    <tr>\n",
       "      <th>26</th>\n",
       "      <td>17197</td>\n",
       "      <td>V. Kaith</td>\n",
       "      <td>India</td>\n",
       "    </tr>\n",
       "    <tr>\n",
       "      <th>27</th>\n",
       "      <td>17339</td>\n",
       "      <td>S. Passi</td>\n",
       "      <td>India</td>\n",
       "    </tr>\n",
       "    <tr>\n",
       "      <th>28</th>\n",
       "      <td>17436</td>\n",
       "      <td>D. Lalhlimpuia</td>\n",
       "      <td>India</td>\n",
       "    </tr>\n",
       "    <tr>\n",
       "      <th>29</th>\n",
       "      <td>17539</td>\n",
       "      <td>C. Singh</td>\n",
       "      <td>India</td>\n",
       "    </tr>\n",
       "  </tbody>\n",
       "</table>\n",
       "</div>"
      ],
      "text/plain": [
       "    index             Name Nationality\n",
       "0    8605       S. Chhetri       India\n",
       "1   10011       S. Jhingan       India\n",
       "2   12598    J. Lalpekhlua       India\n",
       "3   12811  G. Singh Sandhu       India\n",
       "4   13508    A. Edathodika       India\n",
       "5   14054        P. Halder       India\n",
       "6   14199         P. Kotal       India\n",
       "7   14218         L. Ralte       India\n",
       "8   14705           N. Das       India\n",
       "9   14786         U. Singh       India\n",
       "10  14915       H. Narzary       India\n",
       "11  15356         R. Singh       India\n",
       "12  15643         S. Singh       India\n",
       "13  15652         A. Thapa       India\n",
       "14  15855       M. Rafique       India\n",
       "15  15864         A. Singh       India\n",
       "16  15884         B. Singh       India\n",
       "17  16135          S. Bose       India\n",
       "18  16265        R. Borges       India\n",
       "19  16450          S. Paul       India\n",
       "20  16499        A. Mondal       India\n",
       "21  16539  L. Lalruatthara       India\n",
       "22  16793       E. Lyngdoh       India\n",
       "23  16903   J. Lalrinzuala       India\n",
       "24  16976     A. Kuruniyan       India\n",
       "25  17129         J. Singh       India\n",
       "26  17197         V. Kaith       India\n",
       "27  17339         S. Passi       India\n",
       "28  17436   D. Lalhlimpuia       India\n",
       "29  17539         C. Singh       India"
      ]
     },
     "execution_count": 36,
     "metadata": {},
     "output_type": "execute_result"
    }
   ],
   "source": [
    "indian_players=df[df['Nationality']=='India']\n",
    "indian_players[['Name','Nationality']].reset_index()"
   ]
  },
  {
   "cell_type": "code",
   "execution_count": null,
   "id": "724fddad-2036-46e0-a87f-94c3738f4e39",
   "metadata": {},
   "outputs": [],
   "source": []
  },
  {
   "cell_type": "code",
   "execution_count": null,
   "id": "613382fd-3c5a-4c51-af61-69d4dfca5467",
   "metadata": {},
   "outputs": [],
   "source": []
  },
  {
   "cell_type": "code",
   "execution_count": null,
   "id": "ee98b40f-43ed-483f-824b-46d324a6dd11",
   "metadata": {},
   "outputs": [],
   "source": []
  },
  {
   "cell_type": "code",
   "execution_count": null,
   "id": "c265fbff-3d21-46dc-b535-2970690723fc",
   "metadata": {},
   "outputs": [],
   "source": []
  },
  {
   "cell_type": "code",
   "execution_count": null,
   "id": "02041d90-df95-4b6a-906b-b3d72df23e0e",
   "metadata": {},
   "outputs": [],
   "source": []
  },
  {
   "cell_type": "code",
   "execution_count": null,
   "id": "ade8417f-d6a7-475f-b418-b532eb43a512",
   "metadata": {},
   "outputs": [],
   "source": []
  },
  {
   "cell_type": "code",
   "execution_count": null,
   "id": "759b08f5-4475-4e6b-ab4f-38b2a204674c",
   "metadata": {},
   "outputs": [],
   "source": []
  },
  {
   "cell_type": "code",
   "execution_count": null,
   "id": "da70edcf-cd3b-4e53-8c2f-410fb5262b57",
   "metadata": {},
   "outputs": [],
   "source": []
  },
  {
   "cell_type": "code",
   "execution_count": null,
   "id": "86ac82d0-3613-468a-9139-73dafda2c97a",
   "metadata": {},
   "outputs": [],
   "source": []
  },
  {
   "cell_type": "code",
   "execution_count": null,
   "id": "705f3981-0f82-4456-80e1-7036dbca2d5d",
   "metadata": {},
   "outputs": [],
   "source": []
  },
  {
   "cell_type": "code",
   "execution_count": null,
   "id": "1937154e-3842-4f5d-a1a1-b52cd4661254",
   "metadata": {},
   "outputs": [],
   "source": []
  },
  {
   "cell_type": "code",
   "execution_count": null,
   "id": "345bd5a6-13ec-41d6-8ed2-d65142d40848",
   "metadata": {},
   "outputs": [],
   "source": []
  },
  {
   "cell_type": "code",
   "execution_count": null,
   "id": "d829d270-b6a6-4886-aa62-c5704435dca3",
   "metadata": {},
   "outputs": [],
   "source": []
  },
  {
   "cell_type": "code",
   "execution_count": null,
   "id": "a98b1bd7-49c9-4872-9b16-8e94abd8921b",
   "metadata": {},
   "outputs": [],
   "source": []
  },
  {
   "cell_type": "code",
   "execution_count": null,
   "id": "ac89ef24-a0d7-4ed1-b258-0964234e9c4a",
   "metadata": {},
   "outputs": [],
   "source": []
  },
  {
   "cell_type": "code",
   "execution_count": null,
   "id": "78fa8edd-9c1c-4b87-883f-2dc3d470ca94",
   "metadata": {},
   "outputs": [],
   "source": []
  },
  {
   "cell_type": "code",
   "execution_count": null,
   "id": "80997f87-56ad-4ce4-9a2a-bed49ca62127",
   "metadata": {},
   "outputs": [],
   "source": []
  }
 ],
 "metadata": {
  "kernelspec": {
   "display_name": "Python 3 (ipykernel)",
   "language": "python",
   "name": "python3"
  },
  "language_info": {
   "codemirror_mode": {
    "name": "ipython",
    "version": 3
   },
   "file_extension": ".py",
   "mimetype": "text/x-python",
   "name": "python",
   "nbconvert_exporter": "python",
   "pygments_lexer": "ipython3",
   "version": "3.12.5"
  }
 },
 "nbformat": 4,
 "nbformat_minor": 5
}
